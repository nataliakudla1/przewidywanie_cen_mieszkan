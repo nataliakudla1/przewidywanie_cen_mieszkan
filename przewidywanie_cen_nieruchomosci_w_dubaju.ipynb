{
 "cells": [
  {
   "cell_type": "markdown",
   "metadata": {},
   "source": [
    "# Projekt - Przewidzenie ceny nieruchomości w Dubaju"
   ]
  },
  {
   "cell_type": "code",
   "execution_count": 1,
   "metadata": {},
   "outputs": [],
   "source": [
    "import numpy as np\n",
    "import pandas as pd\n",
    "import matplotlib.pyplot as plt\n",
    "import seaborn as sns"
   ]
  },
  {
   "cell_type": "code",
   "execution_count": 2,
   "metadata": {},
   "outputs": [],
   "source": [
    "df=pd.read_csv(\"properties_data.csv\")"
   ]
  },
  {
   "cell_type": "code",
   "execution_count": 3,
   "metadata": {},
   "outputs": [],
   "source": [
    "import warnings\n",
    "warnings.filterwarnings('ignore')"
   ]
  },
  {
   "cell_type": "code",
   "execution_count": 4,
   "metadata": {},
   "outputs": [
    {
     "data": {
      "text/html": [
       "<div>\n",
       "<style scoped>\n",
       "    .dataframe tbody tr th:only-of-type {\n",
       "        vertical-align: middle;\n",
       "    }\n",
       "\n",
       "    .dataframe tbody tr th {\n",
       "        vertical-align: top;\n",
       "    }\n",
       "\n",
       "    .dataframe thead th {\n",
       "        text-align: right;\n",
       "    }\n",
       "</style>\n",
       "<table border=\"1\" class=\"dataframe\">\n",
       "  <thead>\n",
       "    <tr style=\"text-align: right;\">\n",
       "      <th></th>\n",
       "      <th>id</th>\n",
       "      <th>neighborhood</th>\n",
       "      <th>latitude</th>\n",
       "      <th>longitude</th>\n",
       "      <th>price</th>\n",
       "      <th>size_in_sqft</th>\n",
       "      <th>no_of_bedrooms</th>\n",
       "      <th>no_of_bathrooms</th>\n",
       "      <th>quality</th>\n",
       "      <th>furnished</th>\n",
       "      <th>...</th>\n",
       "      <th>concierge</th>\n",
       "      <th>covered_parking</th>\n",
       "      <th>pets_allowed</th>\n",
       "      <th>private_garden</th>\n",
       "      <th>private_gym</th>\n",
       "      <th>private_pool</th>\n",
       "      <th>security</th>\n",
       "      <th>shared_gym</th>\n",
       "      <th>view_of_landmark</th>\n",
       "      <th>view_of_water</th>\n",
       "    </tr>\n",
       "  </thead>\n",
       "  <tbody>\n",
       "    <tr>\n",
       "      <td>0</td>\n",
       "      <td>5528049</td>\n",
       "      <td>Palm Jumeirah</td>\n",
       "      <td>25.113208</td>\n",
       "      <td>55.138932</td>\n",
       "      <td>2700000</td>\n",
       "      <td>1079</td>\n",
       "      <td>1.0</td>\n",
       "      <td>2</td>\n",
       "      <td>Medium</td>\n",
       "      <td>1</td>\n",
       "      <td>...</td>\n",
       "      <td>1</td>\n",
       "      <td>0</td>\n",
       "      <td>1.0</td>\n",
       "      <td>0</td>\n",
       "      <td>0</td>\n",
       "      <td>0</td>\n",
       "      <td>0</td>\n",
       "      <td>1.0</td>\n",
       "      <td>NaN</td>\n",
       "      <td>1</td>\n",
       "    </tr>\n",
       "    <tr>\n",
       "      <td>1</td>\n",
       "      <td>6008529</td>\n",
       "      <td>Palm Jumeirah</td>\n",
       "      <td>25.106809</td>\n",
       "      <td>55.151201</td>\n",
       "      <td>2850000</td>\n",
       "      <td>1582</td>\n",
       "      <td>2.0</td>\n",
       "      <td>2</td>\n",
       "      <td>Medium</td>\n",
       "      <td>1</td>\n",
       "      <td>...</td>\n",
       "      <td>0</td>\n",
       "      <td>0</td>\n",
       "      <td>0.0</td>\n",
       "      <td>0</td>\n",
       "      <td>0</td>\n",
       "      <td>0</td>\n",
       "      <td>0</td>\n",
       "      <td>1.0</td>\n",
       "      <td>NaN</td>\n",
       "      <td>1</td>\n",
       "    </tr>\n",
       "    <tr>\n",
       "      <td>2</td>\n",
       "      <td>6034542</td>\n",
       "      <td>Jumeirah Lake Towers</td>\n",
       "      <td>25.063302</td>\n",
       "      <td>55.137728</td>\n",
       "      <td>1150000</td>\n",
       "      <td>1951</td>\n",
       "      <td>3.0</td>\n",
       "      <td>5</td>\n",
       "      <td>Medium</td>\n",
       "      <td>0</td>\n",
       "      <td>...</td>\n",
       "      <td>0</td>\n",
       "      <td>1</td>\n",
       "      <td>0.0</td>\n",
       "      <td>0</td>\n",
       "      <td>0</td>\n",
       "      <td>0</td>\n",
       "      <td>1</td>\n",
       "      <td>1.0</td>\n",
       "      <td>1.0</td>\n",
       "      <td>1</td>\n",
       "    </tr>\n",
       "    <tr>\n",
       "      <td>3</td>\n",
       "      <td>6326063</td>\n",
       "      <td>Culture Village</td>\n",
       "      <td>25.227295</td>\n",
       "      <td>55.341761</td>\n",
       "      <td>2850000</td>\n",
       "      <td>2020</td>\n",
       "      <td>NaN</td>\n",
       "      <td>3</td>\n",
       "      <td>Low</td>\n",
       "      <td>0</td>\n",
       "      <td>...</td>\n",
       "      <td>1</td>\n",
       "      <td>1</td>\n",
       "      <td>1.0</td>\n",
       "      <td>0</td>\n",
       "      <td>0</td>\n",
       "      <td>0</td>\n",
       "      <td>0</td>\n",
       "      <td>0.0</td>\n",
       "      <td>0.0</td>\n",
       "      <td>0</td>\n",
       "    </tr>\n",
       "    <tr>\n",
       "      <td>4</td>\n",
       "      <td>6356778</td>\n",
       "      <td>Palm Jumeirah</td>\n",
       "      <td>25.114275</td>\n",
       "      <td>55.139764</td>\n",
       "      <td>1729200</td>\n",
       "      <td>507</td>\n",
       "      <td>0.0</td>\n",
       "      <td>1</td>\n",
       "      <td>Medium</td>\n",
       "      <td>1</td>\n",
       "      <td>...</td>\n",
       "      <td>0</td>\n",
       "      <td>1</td>\n",
       "      <td>0.0</td>\n",
       "      <td>0</td>\n",
       "      <td>0</td>\n",
       "      <td>0</td>\n",
       "      <td>1</td>\n",
       "      <td>1.0</td>\n",
       "      <td>1.0</td>\n",
       "      <td>1</td>\n",
       "    </tr>\n",
       "  </tbody>\n",
       "</table>\n",
       "<p>5 rows × 24 columns</p>\n",
       "</div>"
      ],
      "text/plain": [
       "        id          neighborhood   latitude  longitude    price  size_in_sqft  \\\n",
       "0  5528049         Palm Jumeirah  25.113208  55.138932  2700000          1079   \n",
       "1  6008529         Palm Jumeirah  25.106809  55.151201  2850000          1582   \n",
       "2  6034542  Jumeirah Lake Towers  25.063302  55.137728  1150000          1951   \n",
       "3  6326063       Culture Village  25.227295  55.341761  2850000          2020   \n",
       "4  6356778         Palm Jumeirah  25.114275  55.139764  1729200           507   \n",
       "\n",
       "   no_of_bedrooms  no_of_bathrooms quality  furnished  ...  concierge  \\\n",
       "0             1.0                2  Medium          1  ...          1   \n",
       "1             2.0                2  Medium          1  ...          0   \n",
       "2             3.0                5  Medium          0  ...          0   \n",
       "3             NaN                3     Low          0  ...          1   \n",
       "4             0.0                1  Medium          1  ...          0   \n",
       "\n",
       "   covered_parking  pets_allowed  private_garden  private_gym  private_pool  \\\n",
       "0                0           1.0               0            0             0   \n",
       "1                0           0.0               0            0             0   \n",
       "2                1           0.0               0            0             0   \n",
       "3                1           1.0               0            0             0   \n",
       "4                1           0.0               0            0             0   \n",
       "\n",
       "   security  shared_gym  view_of_landmark  view_of_water  \n",
       "0         0         1.0               NaN              1  \n",
       "1         0         1.0               NaN              1  \n",
       "2         1         1.0               1.0              1  \n",
       "3         0         0.0               0.0              0  \n",
       "4         1         1.0               1.0              1  \n",
       "\n",
       "[5 rows x 24 columns]"
      ]
     },
     "execution_count": 4,
     "metadata": {},
     "output_type": "execute_result"
    }
   ],
   "source": [
    "df.head()"
   ]
  },
  {
   "cell_type": "code",
   "execution_count": 5,
   "metadata": {},
   "outputs": [
    {
     "name": "stdout",
     "output_type": "stream",
     "text": [
      "<class 'pandas.core.frame.DataFrame'>\n",
      "RangeIndex: 1905 entries, 0 to 1904\n",
      "Data columns (total 24 columns):\n",
      "id                     1905 non-null int64\n",
      "neighborhood           1905 non-null object\n",
      "latitude               1890 non-null float64\n",
      "longitude              1905 non-null float64\n",
      "price                  1905 non-null int64\n",
      "size_in_sqft           1905 non-null int64\n",
      "no_of_bedrooms         1811 non-null float64\n",
      "no_of_bathrooms        1905 non-null int64\n",
      "quality                1905 non-null object\n",
      "furnished              1905 non-null int64\n",
      "balcony                1905 non-null int64\n",
      "barbecue_area          1905 non-null int64\n",
      "central_ac             1905 non-null int64\n",
      "childrens_play_area    1905 non-null int64\n",
      "concierge              1905 non-null int64\n",
      "covered_parking        1905 non-null int64\n",
      "pets_allowed           1864 non-null float64\n",
      "private_garden         1905 non-null int64\n",
      "private_gym            1905 non-null int64\n",
      "private_pool           1905 non-null int64\n",
      "security               1905 non-null int64\n",
      "shared_gym             1885 non-null float64\n",
      "view_of_landmark       1754 non-null float64\n",
      "view_of_water          1905 non-null int64\n",
      "dtypes: float64(6), int64(16), object(2)\n",
      "memory usage: 357.3+ KB\n"
     ]
    }
   ],
   "source": [
    "df.info()"
   ]
  },
  {
   "cell_type": "code",
   "execution_count": 6,
   "metadata": {},
   "outputs": [
    {
     "data": {
      "text/html": [
       "<div>\n",
       "<style scoped>\n",
       "    .dataframe tbody tr th:only-of-type {\n",
       "        vertical-align: middle;\n",
       "    }\n",
       "\n",
       "    .dataframe tbody tr th {\n",
       "        vertical-align: top;\n",
       "    }\n",
       "\n",
       "    .dataframe thead th {\n",
       "        text-align: right;\n",
       "    }\n",
       "</style>\n",
       "<table border=\"1\" class=\"dataframe\">\n",
       "  <thead>\n",
       "    <tr style=\"text-align: right;\">\n",
       "      <th></th>\n",
       "      <th>id</th>\n",
       "      <th>latitude</th>\n",
       "      <th>longitude</th>\n",
       "      <th>price</th>\n",
       "      <th>size_in_sqft</th>\n",
       "      <th>no_of_bedrooms</th>\n",
       "      <th>no_of_bathrooms</th>\n",
       "      <th>furnished</th>\n",
       "      <th>balcony</th>\n",
       "      <th>barbecue_area</th>\n",
       "      <th>...</th>\n",
       "      <th>concierge</th>\n",
       "      <th>covered_parking</th>\n",
       "      <th>pets_allowed</th>\n",
       "      <th>private_garden</th>\n",
       "      <th>private_gym</th>\n",
       "      <th>private_pool</th>\n",
       "      <th>security</th>\n",
       "      <th>shared_gym</th>\n",
       "      <th>view_of_landmark</th>\n",
       "      <th>view_of_water</th>\n",
       "    </tr>\n",
       "  </thead>\n",
       "  <tbody>\n",
       "    <tr>\n",
       "      <td>count</td>\n",
       "      <td>1.905000e+03</td>\n",
       "      <td>1890.000000</td>\n",
       "      <td>1905.000000</td>\n",
       "      <td>1.905000e+03</td>\n",
       "      <td>1905.000000</td>\n",
       "      <td>1811.000000</td>\n",
       "      <td>1905.000000</td>\n",
       "      <td>1905.000000</td>\n",
       "      <td>1905.000000</td>\n",
       "      <td>1905.000000</td>\n",
       "      <td>...</td>\n",
       "      <td>1905.00000</td>\n",
       "      <td>1905.000000</td>\n",
       "      <td>1864.000000</td>\n",
       "      <td>1905.000000</td>\n",
       "      <td>1905.000000</td>\n",
       "      <td>1905.000000</td>\n",
       "      <td>1905.000000</td>\n",
       "      <td>1885.000000</td>\n",
       "      <td>1754.000000</td>\n",
       "      <td>1905.000000</td>\n",
       "    </tr>\n",
       "    <tr>\n",
       "      <td>mean</td>\n",
       "      <td>7.573308e+06</td>\n",
       "      <td>25.116538</td>\n",
       "      <td>55.212338</td>\n",
       "      <td>2.085830e+06</td>\n",
       "      <td>1417.050394</td>\n",
       "      <td>1.796797</td>\n",
       "      <td>2.512861</td>\n",
       "      <td>0.358530</td>\n",
       "      <td>0.719685</td>\n",
       "      <td>0.141207</td>\n",
       "      <td>...</td>\n",
       "      <td>0.35643</td>\n",
       "      <td>0.618373</td>\n",
       "      <td>0.297747</td>\n",
       "      <td>0.016798</td>\n",
       "      <td>0.007874</td>\n",
       "      <td>0.043045</td>\n",
       "      <td>0.352231</td>\n",
       "      <td>0.661008</td>\n",
       "      <td>0.206385</td>\n",
       "      <td>0.343307</td>\n",
       "    </tr>\n",
       "    <tr>\n",
       "      <td>std</td>\n",
       "      <td>1.925252e+05</td>\n",
       "      <td>0.062632</td>\n",
       "      <td>0.068794</td>\n",
       "      <td>2.913200e+06</td>\n",
       "      <td>891.487639</td>\n",
       "      <td>0.955132</td>\n",
       "      <td>1.063117</td>\n",
       "      <td>0.479695</td>\n",
       "      <td>0.449271</td>\n",
       "      <td>0.348327</td>\n",
       "      <td>...</td>\n",
       "      <td>0.47907</td>\n",
       "      <td>0.485913</td>\n",
       "      <td>0.457390</td>\n",
       "      <td>0.128547</td>\n",
       "      <td>0.088409</td>\n",
       "      <td>0.203011</td>\n",
       "      <td>0.477791</td>\n",
       "      <td>0.473493</td>\n",
       "      <td>0.404826</td>\n",
       "      <td>0.474938</td>\n",
       "    </tr>\n",
       "    <tr>\n",
       "      <td>min</td>\n",
       "      <td>5.528049e+06</td>\n",
       "      <td>24.865992</td>\n",
       "      <td>55.069311</td>\n",
       "      <td>2.200000e+05</td>\n",
       "      <td>294.000000</td>\n",
       "      <td>0.000000</td>\n",
       "      <td>1.000000</td>\n",
       "      <td>0.000000</td>\n",
       "      <td>0.000000</td>\n",
       "      <td>0.000000</td>\n",
       "      <td>...</td>\n",
       "      <td>0.00000</td>\n",
       "      <td>0.000000</td>\n",
       "      <td>0.000000</td>\n",
       "      <td>0.000000</td>\n",
       "      <td>0.000000</td>\n",
       "      <td>0.000000</td>\n",
       "      <td>0.000000</td>\n",
       "      <td>0.000000</td>\n",
       "      <td>0.000000</td>\n",
       "      <td>0.000000</td>\n",
       "    </tr>\n",
       "    <tr>\n",
       "      <td>25%</td>\n",
       "      <td>7.560167e+06</td>\n",
       "      <td>25.072832</td>\n",
       "      <td>55.145389</td>\n",
       "      <td>8.900000e+05</td>\n",
       "      <td>840.000000</td>\n",
       "      <td>1.000000</td>\n",
       "      <td>2.000000</td>\n",
       "      <td>0.000000</td>\n",
       "      <td>0.000000</td>\n",
       "      <td>0.000000</td>\n",
       "      <td>...</td>\n",
       "      <td>0.00000</td>\n",
       "      <td>0.000000</td>\n",
       "      <td>0.000000</td>\n",
       "      <td>0.000000</td>\n",
       "      <td>0.000000</td>\n",
       "      <td>0.000000</td>\n",
       "      <td>0.000000</td>\n",
       "      <td>0.000000</td>\n",
       "      <td>0.000000</td>\n",
       "      <td>0.000000</td>\n",
       "    </tr>\n",
       "    <tr>\n",
       "      <td>50%</td>\n",
       "      <td>7.631829e+06</td>\n",
       "      <td>25.096700</td>\n",
       "      <td>55.207506</td>\n",
       "      <td>1.400000e+06</td>\n",
       "      <td>1271.000000</td>\n",
       "      <td>2.000000</td>\n",
       "      <td>2.000000</td>\n",
       "      <td>0.000000</td>\n",
       "      <td>1.000000</td>\n",
       "      <td>0.000000</td>\n",
       "      <td>...</td>\n",
       "      <td>0.00000</td>\n",
       "      <td>1.000000</td>\n",
       "      <td>0.000000</td>\n",
       "      <td>0.000000</td>\n",
       "      <td>0.000000</td>\n",
       "      <td>0.000000</td>\n",
       "      <td>0.000000</td>\n",
       "      <td>1.000000</td>\n",
       "      <td>0.000000</td>\n",
       "      <td>0.000000</td>\n",
       "    </tr>\n",
       "    <tr>\n",
       "      <td>75%</td>\n",
       "      <td>7.670328e+06</td>\n",
       "      <td>25.188114</td>\n",
       "      <td>55.271797</td>\n",
       "      <td>2.200000e+06</td>\n",
       "      <td>1703.000000</td>\n",
       "      <td>2.000000</td>\n",
       "      <td>3.000000</td>\n",
       "      <td>1.000000</td>\n",
       "      <td>1.000000</td>\n",
       "      <td>0.000000</td>\n",
       "      <td>...</td>\n",
       "      <td>1.00000</td>\n",
       "      <td>1.000000</td>\n",
       "      <td>1.000000</td>\n",
       "      <td>0.000000</td>\n",
       "      <td>0.000000</td>\n",
       "      <td>0.000000</td>\n",
       "      <td>1.000000</td>\n",
       "      <td>1.000000</td>\n",
       "      <td>0.000000</td>\n",
       "      <td>1.000000</td>\n",
       "    </tr>\n",
       "    <tr>\n",
       "      <td>max</td>\n",
       "      <td>7.706643e+06</td>\n",
       "      <td>25.273623</td>\n",
       "      <td>55.441623</td>\n",
       "      <td>3.500000e+07</td>\n",
       "      <td>9576.000000</td>\n",
       "      <td>5.000000</td>\n",
       "      <td>6.000000</td>\n",
       "      <td>1.000000</td>\n",
       "      <td>1.000000</td>\n",
       "      <td>1.000000</td>\n",
       "      <td>...</td>\n",
       "      <td>1.00000</td>\n",
       "      <td>1.000000</td>\n",
       "      <td>1.000000</td>\n",
       "      <td>1.000000</td>\n",
       "      <td>1.000000</td>\n",
       "      <td>1.000000</td>\n",
       "      <td>1.000000</td>\n",
       "      <td>1.000000</td>\n",
       "      <td>1.000000</td>\n",
       "      <td>1.000000</td>\n",
       "    </tr>\n",
       "  </tbody>\n",
       "</table>\n",
       "<p>8 rows × 22 columns</p>\n",
       "</div>"
      ],
      "text/plain": [
       "                 id     latitude    longitude         price  size_in_sqft  \\\n",
       "count  1.905000e+03  1890.000000  1905.000000  1.905000e+03   1905.000000   \n",
       "mean   7.573308e+06    25.116538    55.212338  2.085830e+06   1417.050394   \n",
       "std    1.925252e+05     0.062632     0.068794  2.913200e+06    891.487639   \n",
       "min    5.528049e+06    24.865992    55.069311  2.200000e+05    294.000000   \n",
       "25%    7.560167e+06    25.072832    55.145389  8.900000e+05    840.000000   \n",
       "50%    7.631829e+06    25.096700    55.207506  1.400000e+06   1271.000000   \n",
       "75%    7.670328e+06    25.188114    55.271797  2.200000e+06   1703.000000   \n",
       "max    7.706643e+06    25.273623    55.441623  3.500000e+07   9576.000000   \n",
       "\n",
       "       no_of_bedrooms  no_of_bathrooms    furnished      balcony  \\\n",
       "count     1811.000000      1905.000000  1905.000000  1905.000000   \n",
       "mean         1.796797         2.512861     0.358530     0.719685   \n",
       "std          0.955132         1.063117     0.479695     0.449271   \n",
       "min          0.000000         1.000000     0.000000     0.000000   \n",
       "25%          1.000000         2.000000     0.000000     0.000000   \n",
       "50%          2.000000         2.000000     0.000000     1.000000   \n",
       "75%          2.000000         3.000000     1.000000     1.000000   \n",
       "max          5.000000         6.000000     1.000000     1.000000   \n",
       "\n",
       "       barbecue_area  ...   concierge  covered_parking  pets_allowed  \\\n",
       "count    1905.000000  ...  1905.00000      1905.000000   1864.000000   \n",
       "mean        0.141207  ...     0.35643         0.618373      0.297747   \n",
       "std         0.348327  ...     0.47907         0.485913      0.457390   \n",
       "min         0.000000  ...     0.00000         0.000000      0.000000   \n",
       "25%         0.000000  ...     0.00000         0.000000      0.000000   \n",
       "50%         0.000000  ...     0.00000         1.000000      0.000000   \n",
       "75%         0.000000  ...     1.00000         1.000000      1.000000   \n",
       "max         1.000000  ...     1.00000         1.000000      1.000000   \n",
       "\n",
       "       private_garden  private_gym  private_pool     security   shared_gym  \\\n",
       "count     1905.000000  1905.000000   1905.000000  1905.000000  1885.000000   \n",
       "mean         0.016798     0.007874      0.043045     0.352231     0.661008   \n",
       "std          0.128547     0.088409      0.203011     0.477791     0.473493   \n",
       "min          0.000000     0.000000      0.000000     0.000000     0.000000   \n",
       "25%          0.000000     0.000000      0.000000     0.000000     0.000000   \n",
       "50%          0.000000     0.000000      0.000000     0.000000     1.000000   \n",
       "75%          0.000000     0.000000      0.000000     1.000000     1.000000   \n",
       "max          1.000000     1.000000      1.000000     1.000000     1.000000   \n",
       "\n",
       "       view_of_landmark  view_of_water  \n",
       "count       1754.000000    1905.000000  \n",
       "mean           0.206385       0.343307  \n",
       "std            0.404826       0.474938  \n",
       "min            0.000000       0.000000  \n",
       "25%            0.000000       0.000000  \n",
       "50%            0.000000       0.000000  \n",
       "75%            0.000000       1.000000  \n",
       "max            1.000000       1.000000  \n",
       "\n",
       "[8 rows x 22 columns]"
      ]
     },
     "execution_count": 6,
     "metadata": {},
     "output_type": "execute_result"
    }
   ],
   "source": [
    "df.describe()"
   ]
  },
  {
   "cell_type": "code",
   "execution_count": 7,
   "metadata": {},
   "outputs": [],
   "source": [
    "df.drop(\"id\", axis=1, inplace=True)"
   ]
  },
  {
   "cell_type": "code",
   "execution_count": 8,
   "metadata": {},
   "outputs": [
    {
     "data": {
      "text/html": [
       "<div>\n",
       "<style scoped>\n",
       "    .dataframe tbody tr th:only-of-type {\n",
       "        vertical-align: middle;\n",
       "    }\n",
       "\n",
       "    .dataframe tbody tr th {\n",
       "        vertical-align: top;\n",
       "    }\n",
       "\n",
       "    .dataframe thead th {\n",
       "        text-align: right;\n",
       "    }\n",
       "</style>\n",
       "<table border=\"1\" class=\"dataframe\">\n",
       "  <thead>\n",
       "    <tr style=\"text-align: right;\">\n",
       "      <th></th>\n",
       "      <th>neighborhood</th>\n",
       "      <th>latitude</th>\n",
       "      <th>longitude</th>\n",
       "      <th>price</th>\n",
       "      <th>size_in_sqft</th>\n",
       "      <th>no_of_bedrooms</th>\n",
       "      <th>no_of_bathrooms</th>\n",
       "      <th>quality</th>\n",
       "      <th>furnished</th>\n",
       "      <th>balcony</th>\n",
       "      <th>...</th>\n",
       "      <th>concierge</th>\n",
       "      <th>covered_parking</th>\n",
       "      <th>pets_allowed</th>\n",
       "      <th>private_garden</th>\n",
       "      <th>private_gym</th>\n",
       "      <th>private_pool</th>\n",
       "      <th>security</th>\n",
       "      <th>shared_gym</th>\n",
       "      <th>view_of_landmark</th>\n",
       "      <th>view_of_water</th>\n",
       "    </tr>\n",
       "  </thead>\n",
       "  <tbody>\n",
       "    <tr>\n",
       "      <td>0</td>\n",
       "      <td>Palm Jumeirah</td>\n",
       "      <td>25.113208</td>\n",
       "      <td>55.138932</td>\n",
       "      <td>2700000</td>\n",
       "      <td>1079</td>\n",
       "      <td>1.0</td>\n",
       "      <td>2</td>\n",
       "      <td>Medium</td>\n",
       "      <td>1</td>\n",
       "      <td>1</td>\n",
       "      <td>...</td>\n",
       "      <td>1</td>\n",
       "      <td>0</td>\n",
       "      <td>1.0</td>\n",
       "      <td>0</td>\n",
       "      <td>0</td>\n",
       "      <td>0</td>\n",
       "      <td>0</td>\n",
       "      <td>1.0</td>\n",
       "      <td>NaN</td>\n",
       "      <td>1</td>\n",
       "    </tr>\n",
       "    <tr>\n",
       "      <td>1</td>\n",
       "      <td>Palm Jumeirah</td>\n",
       "      <td>25.106809</td>\n",
       "      <td>55.151201</td>\n",
       "      <td>2850000</td>\n",
       "      <td>1582</td>\n",
       "      <td>2.0</td>\n",
       "      <td>2</td>\n",
       "      <td>Medium</td>\n",
       "      <td>1</td>\n",
       "      <td>1</td>\n",
       "      <td>...</td>\n",
       "      <td>0</td>\n",
       "      <td>0</td>\n",
       "      <td>0.0</td>\n",
       "      <td>0</td>\n",
       "      <td>0</td>\n",
       "      <td>0</td>\n",
       "      <td>0</td>\n",
       "      <td>1.0</td>\n",
       "      <td>NaN</td>\n",
       "      <td>1</td>\n",
       "    </tr>\n",
       "    <tr>\n",
       "      <td>2</td>\n",
       "      <td>Jumeirah Lake Towers</td>\n",
       "      <td>25.063302</td>\n",
       "      <td>55.137728</td>\n",
       "      <td>1150000</td>\n",
       "      <td>1951</td>\n",
       "      <td>3.0</td>\n",
       "      <td>5</td>\n",
       "      <td>Medium</td>\n",
       "      <td>0</td>\n",
       "      <td>1</td>\n",
       "      <td>...</td>\n",
       "      <td>0</td>\n",
       "      <td>1</td>\n",
       "      <td>0.0</td>\n",
       "      <td>0</td>\n",
       "      <td>0</td>\n",
       "      <td>0</td>\n",
       "      <td>1</td>\n",
       "      <td>1.0</td>\n",
       "      <td>1.0</td>\n",
       "      <td>1</td>\n",
       "    </tr>\n",
       "    <tr>\n",
       "      <td>3</td>\n",
       "      <td>Culture Village</td>\n",
       "      <td>25.227295</td>\n",
       "      <td>55.341761</td>\n",
       "      <td>2850000</td>\n",
       "      <td>2020</td>\n",
       "      <td>NaN</td>\n",
       "      <td>3</td>\n",
       "      <td>Low</td>\n",
       "      <td>0</td>\n",
       "      <td>1</td>\n",
       "      <td>...</td>\n",
       "      <td>1</td>\n",
       "      <td>1</td>\n",
       "      <td>1.0</td>\n",
       "      <td>0</td>\n",
       "      <td>0</td>\n",
       "      <td>0</td>\n",
       "      <td>0</td>\n",
       "      <td>0.0</td>\n",
       "      <td>0.0</td>\n",
       "      <td>0</td>\n",
       "    </tr>\n",
       "    <tr>\n",
       "      <td>4</td>\n",
       "      <td>Palm Jumeirah</td>\n",
       "      <td>25.114275</td>\n",
       "      <td>55.139764</td>\n",
       "      <td>1729200</td>\n",
       "      <td>507</td>\n",
       "      <td>0.0</td>\n",
       "      <td>1</td>\n",
       "      <td>Medium</td>\n",
       "      <td>1</td>\n",
       "      <td>0</td>\n",
       "      <td>...</td>\n",
       "      <td>0</td>\n",
       "      <td>1</td>\n",
       "      <td>0.0</td>\n",
       "      <td>0</td>\n",
       "      <td>0</td>\n",
       "      <td>0</td>\n",
       "      <td>1</td>\n",
       "      <td>1.0</td>\n",
       "      <td>1.0</td>\n",
       "      <td>1</td>\n",
       "    </tr>\n",
       "  </tbody>\n",
       "</table>\n",
       "<p>5 rows × 23 columns</p>\n",
       "</div>"
      ],
      "text/plain": [
       "           neighborhood   latitude  longitude    price  size_in_sqft  \\\n",
       "0         Palm Jumeirah  25.113208  55.138932  2700000          1079   \n",
       "1         Palm Jumeirah  25.106809  55.151201  2850000          1582   \n",
       "2  Jumeirah Lake Towers  25.063302  55.137728  1150000          1951   \n",
       "3       Culture Village  25.227295  55.341761  2850000          2020   \n",
       "4         Palm Jumeirah  25.114275  55.139764  1729200           507   \n",
       "\n",
       "   no_of_bedrooms  no_of_bathrooms quality  furnished  balcony  ...  \\\n",
       "0             1.0                2  Medium          1        1  ...   \n",
       "1             2.0                2  Medium          1        1  ...   \n",
       "2             3.0                5  Medium          0        1  ...   \n",
       "3             NaN                3     Low          0        1  ...   \n",
       "4             0.0                1  Medium          1        0  ...   \n",
       "\n",
       "   concierge  covered_parking  pets_allowed  private_garden  private_gym  \\\n",
       "0          1                0           1.0               0            0   \n",
       "1          0                0           0.0               0            0   \n",
       "2          0                1           0.0               0            0   \n",
       "3          1                1           1.0               0            0   \n",
       "4          0                1           0.0               0            0   \n",
       "\n",
       "   private_pool  security  shared_gym  view_of_landmark  view_of_water  \n",
       "0             0         0         1.0               NaN              1  \n",
       "1             0         0         1.0               NaN              1  \n",
       "2             0         1         1.0               1.0              1  \n",
       "3             0         0         0.0               0.0              0  \n",
       "4             0         1         1.0               1.0              1  \n",
       "\n",
       "[5 rows x 23 columns]"
      ]
     },
     "execution_count": 8,
     "metadata": {},
     "output_type": "execute_result"
    }
   ],
   "source": [
    "df.head()"
   ]
  },
  {
   "cell_type": "markdown",
   "metadata": {},
   "source": [
    "## Zmienne kategoryczne"
   ]
  },
  {
   "cell_type": "code",
   "execution_count": 9,
   "metadata": {},
   "outputs": [],
   "source": [
    "lista=[\"neighborhood\", \"quality\",\"no_of_bedrooms\",\"no_of_bathrooms\"]"
   ]
  },
  {
   "cell_type": "code",
   "execution_count": 10,
   "metadata": {},
   "outputs": [
    {
     "name": "stdout",
     "output_type": "stream",
     "text": [
      "Rozkład zmiennej neighborhood : \n",
      " Downtown Dubai                       302\n",
      "Dubai Marina                         288\n",
      "Jumeirah Village Circle              200\n",
      "Palm Jumeirah                        178\n",
      "Jumeirah Beach Residence             116\n",
      "Business Bay                          97\n",
      "Jumeirah Lake Towers                  70\n",
      "Dubai Hills Estate                    53\n",
      "The Views                             47\n",
      "Jumeirah                              39\n",
      "Dubai Creek Harbour (The Lagoons)     38\n",
      "Mohammed Bin Rashid City              31\n",
      "DIFC                                  31\n",
      "Dubai Harbour                         30\n",
      "Greens                                30\n",
      "Town Square                           27\n",
      "Motor City                            27\n",
      "Dubai Sports City                     25\n",
      "Al Furjan                             23\n",
      "DAMAC Hills                           21\n",
      "Old Town                              17\n",
      "Meydan                                17\n",
      "City Walk                             14\n",
      "Umm Suqeim                            13\n",
      "Dubai Silicon Oasis                   12\n",
      "Culture Village                       11\n",
      "Arjan                                 11\n",
      "The Hills                             11\n",
      "Dubai Land                            11\n",
      "Al Barari                             10\n",
      "Discovery Gardens                      8\n",
      "Dubai Production City (IMPZ)           8\n",
      "Bluewaters                             8\n",
      "World Trade Center                     8\n",
      "Al Sufouh                              8\n",
      "Al Kifaf                               7\n",
      "Mirdif                                 6\n",
      "Remraam                                6\n",
      "International City                     6\n",
      "Dubai South (Dubai World Central)      5\n",
      "Dubai Festival City                    5\n",
      "Al Barsha                              4\n",
      "Mudon                                  4\n",
      "Barsha Heights (Tecom)                 4\n",
      "Falcon City of Wonders                 3\n",
      "Jumeirah Village Triangle              3\n",
      "Green Community                        2\n",
      "Dubai Healthcare City                  2\n",
      "Jumeirah Golf Estates                  2\n",
      "Jebel Ali                              2\n",
      "wasl gate                              1\n",
      "Al Quoz                                1\n",
      "Mina Rashid                            1\n",
      "Dubai Residence Complex                1\n",
      "Name: neighborhood, dtype: int64 \n",
      "\n",
      "Rozkład zmiennej quality : \n",
      " Medium    1146\n",
      "Low        544\n",
      "High       134\n",
      "Ultra       81\n",
      "Name: quality, dtype: int64 \n",
      "\n",
      "Rozkład zmiennej no_of_bedrooms : \n",
      " 2.0    686\n",
      "1.0    607\n",
      "3.0    326\n",
      "0.0    119\n",
      "4.0     68\n",
      "5.0      5\n",
      "Name: no_of_bedrooms, dtype: int64 \n",
      "\n",
      "Rozkład zmiennej no_of_bathrooms : \n",
      " 2    723\n",
      "3    553\n",
      "1    311\n",
      "4    230\n",
      "5     77\n",
      "6     11\n",
      "Name: no_of_bathrooms, dtype: int64 \n",
      "\n"
     ]
    }
   ],
   "source": [
    "for x in lista:\n",
    "    print(\"Rozkład zmiennej\", x, \":\",'\\n',df[x].value_counts(), '\\n')"
   ]
  },
  {
   "cell_type": "code",
   "execution_count": 11,
   "metadata": {},
   "outputs": [
    {
     "data": {
      "image/png": "[encoded data removed]",
      "text/plain": [
       "<Figure size 360x360 with 1 Axes>"
      ]
     },
     "metadata": {
      "needs_background": "light"
     },
     "output_type": "display_data"
    },
    {
     "data": {
      "image/png": "[encoded data removed]",
      "text/plain": [
       "<Figure size 360x360 with 1 Axes>"
      ]
     },
     "metadata": {
      "needs_background": "light"
     },
     "output_type": "display_data"
    },
    {
     "data": {
      "image/png": "[encoded data removed]",
      "text/plain": [
       "<Figure size 360x360 with 1 Axes>"
      ]
     },
     "metadata": {
      "needs_background": "light"
     },
     "output_type": "display_data"
    },
    {
     "data": {
      "image/png": "[encoded data removed]",
      "text/plain": [
       "<Figure size 360x360 with 1 Axes>"
      ]
     },
     "metadata": {
      "needs_background": "light"
     },
     "output_type": "display_data"
    }
   ],
   "source": [
    "for zmienna in lista:\n",
    "    sns.catplot(x=zmienna, kind=\"count\", data=df)"
   ]
  },
  {
   "cell_type": "code",
   "execution_count": 12,
   "metadata": {},
   "outputs": [],
   "source": [
    "popularne_dzielnice=[\"Downtown Dubai\", \"Dubai Marina\", \"Jumeirah Village Circle\", \"Palm Jumeirah\", \"Jumeirah Beach Residence\", \"Business Bay\",\"Jumeirah Lake Towers\", \"Dubai Hills Estate\", \"The Views\", \"Jumeirah\",\"Dubai Creek Harbour (The Lagoons)\",\"DIFC\",\"Mohammed Bin Rashid City\",\"Dubai Harbour\",\"Greens\"]"
   ]
  },
  {
   "cell_type": "code",
   "execution_count": 13,
   "metadata": {},
   "outputs": [],
   "source": [
    "df[\"neighborhood\"]=df[\"neighborhood\"].apply(lambda x: x if x in popularne_dzielnice else \"Others\")"
   ]
  },
  {
   "cell_type": "code",
   "execution_count": 14,
   "metadata": {},
   "outputs": [],
   "source": [
    "df[\"quality\"]=df[\"quality\"].apply(lambda x : x if x in [\"Medium\", \"Low\"] else \"High&Ultra\")"
   ]
  },
  {
   "cell_type": "code",
   "execution_count": 15,
   "metadata": {},
   "outputs": [
    {
     "data": {
      "text/plain": [
       "Others                               355\n",
       "Downtown Dubai                       302\n",
       "Dubai Marina                         288\n",
       "Jumeirah Village Circle              200\n",
       "Palm Jumeirah                        178\n",
       "Jumeirah Beach Residence             116\n",
       "Business Bay                          97\n",
       "Jumeirah Lake Towers                  70\n",
       "Dubai Hills Estate                    53\n",
       "The Views                             47\n",
       "Jumeirah                              39\n",
       "Dubai Creek Harbour (The Lagoons)     38\n",
       "DIFC                                  31\n",
       "Mohammed Bin Rashid City              31\n",
       "Dubai Harbour                         30\n",
       "Greens                                30\n",
       "Name: neighborhood, dtype: int64"
      ]
     },
     "execution_count": 15,
     "metadata": {},
     "output_type": "execute_result"
    }
   ],
   "source": [
    "df[\"neighborhood\"].value_counts()"
   ]
  },
  {
   "cell_type": "code",
   "execution_count": 16,
   "metadata": {},
   "outputs": [
    {
     "data": {
      "text/plain": [
       "Medium        1146\n",
       "Low            544\n",
       "High&Ultra     215\n",
       "Name: quality, dtype: int64"
      ]
     },
     "execution_count": 16,
     "metadata": {},
     "output_type": "execute_result"
    }
   ],
   "source": [
    "df[\"quality\"].value_counts()"
   ]
  },
  {
   "cell_type": "code",
   "execution_count": 17,
   "metadata": {},
   "outputs": [
    {
     "data": {
      "text/plain": [
       "2    723\n",
       "3    553\n",
       "1    311\n",
       "4    230\n",
       "5     77\n",
       "6     11\n",
       "Name: no_of_bathrooms, dtype: int64"
      ]
     },
     "execution_count": 17,
     "metadata": {},
     "output_type": "execute_result"
    }
   ],
   "source": [
    "df[\"no_of_bathrooms\"].value_counts()"
   ]
  },
  {
   "cell_type": "code",
   "execution_count": 18,
   "metadata": {},
   "outputs": [],
   "source": [
    "df[\"no_of_bathrooms\"]=df[\"no_of_bathrooms\"].apply(lambda x: x if x<5 else \"5lub6\")"
   ]
  },
  {
   "cell_type": "code",
   "execution_count": 19,
   "metadata": {},
   "outputs": [
    {
     "data": {
      "text/plain": [
       "2        723\n",
       "3        553\n",
       "1        311\n",
       "4        230\n",
       "5lub6     88\n",
       "Name: no_of_bathrooms, dtype: int64"
      ]
     },
     "execution_count": 19,
     "metadata": {},
     "output_type": "execute_result"
    }
   ],
   "source": [
    "df[\"no_of_bathrooms\"].value_counts()"
   ]
  },
  {
   "cell_type": "code",
   "execution_count": 20,
   "metadata": {},
   "outputs": [],
   "source": [
    "df.drop(\"neighborhood\", axis=1, inplace=True)"
   ]
  },
  {
   "cell_type": "code",
   "execution_count": 21,
   "metadata": {},
   "outputs": [],
   "source": [
    "corr=df.corr()"
   ]
  },
  {
   "cell_type": "code",
   "execution_count": 22,
   "metadata": {},
   "outputs": [],
   "source": [
    "matrix = np.triu(df.corr())"
   ]
  },
  {
   "cell_type": "code",
   "execution_count": 23,
   "metadata": {},
   "outputs": [
    {
     "data": {
      "text/plain": [
       "<matplotlib.axes._subplots.AxesSubplot at 0x1c0b1155248>"
      ]
     },
     "execution_count": 23,
     "metadata": {},
     "output_type": "execute_result"
    },
    {
     "data": {
      "image/png": "[encoded data removed]",
      "text/plain": [
       "<Figure size 1152x864 with 2 Axes>"
      ]
     },
     "metadata": {},
     "output_type": "display_data"
    }
   ],
   "source": [
    "sns.set(style=\"white\")\n",
    "fig, ax = plt.subplots(figsize=(16,12))\n",
    "\n",
    "sns.heatmap(corr, mask=matrix, annot=True)"
   ]
  },
  {
   "cell_type": "markdown",
   "metadata": {},
   "source": [
    "## Podział zbioru na treningowy i testowy "
   ]
  },
  {
   "cell_type": "code",
   "execution_count": 24,
   "metadata": {},
   "outputs": [],
   "source": [
    "from sklearn.model_selection import train_test_split"
   ]
  },
  {
   "cell_type": "code",
   "execution_count": 25,
   "metadata": {},
   "outputs": [],
   "source": [
    "X=df.drop([\"price\"], axis=1)"
   ]
  },
  {
   "cell_type": "code",
   "execution_count": 26,
   "metadata": {},
   "outputs": [],
   "source": [
    "y=df[\"price\"]"
   ]
  },
  {
   "cell_type": "code",
   "execution_count": 27,
   "metadata": {},
   "outputs": [],
   "source": [
    "X_train, X_test, y_train, y_test=train_test_split(X,y, test_size=0.3, random_state=123)"
   ]
  },
  {
   "cell_type": "code",
   "execution_count": 28,
   "metadata": {},
   "outputs": [
    {
     "data": {
      "text/html": [
       "<div>\n",
       "<style scoped>\n",
       "    .dataframe tbody tr th:only-of-type {\n",
       "        vertical-align: middle;\n",
       "    }\n",
       "\n",
       "    .dataframe tbody tr th {\n",
       "        vertical-align: top;\n",
       "    }\n",
       "\n",
       "    .dataframe thead th {\n",
       "        text-align: right;\n",
       "    }\n",
       "</style>\n",
       "<table border=\"1\" class=\"dataframe\">\n",
       "  <thead>\n",
       "    <tr style=\"text-align: right;\">\n",
       "      <th></th>\n",
       "      <th>latitude</th>\n",
       "      <th>longitude</th>\n",
       "      <th>size_in_sqft</th>\n",
       "      <th>no_of_bedrooms</th>\n",
       "      <th>no_of_bathrooms</th>\n",
       "      <th>quality</th>\n",
       "      <th>furnished</th>\n",
       "      <th>balcony</th>\n",
       "      <th>barbecue_area</th>\n",
       "      <th>central_ac</th>\n",
       "      <th>...</th>\n",
       "      <th>concierge</th>\n",
       "      <th>covered_parking</th>\n",
       "      <th>pets_allowed</th>\n",
       "      <th>private_garden</th>\n",
       "      <th>private_gym</th>\n",
       "      <th>private_pool</th>\n",
       "      <th>security</th>\n",
       "      <th>shared_gym</th>\n",
       "      <th>view_of_landmark</th>\n",
       "      <th>view_of_water</th>\n",
       "    </tr>\n",
       "  </thead>\n",
       "  <tbody>\n",
       "    <tr>\n",
       "      <td>1755</td>\n",
       "      <td>25.080143</td>\n",
       "      <td>55.152381</td>\n",
       "      <td>398</td>\n",
       "      <td>0.0</td>\n",
       "      <td>1</td>\n",
       "      <td>Medium</td>\n",
       "      <td>0</td>\n",
       "      <td>0</td>\n",
       "      <td>0</td>\n",
       "      <td>1</td>\n",
       "      <td>...</td>\n",
       "      <td>1</td>\n",
       "      <td>1</td>\n",
       "      <td>0.0</td>\n",
       "      <td>0</td>\n",
       "      <td>0</td>\n",
       "      <td>0</td>\n",
       "      <td>1</td>\n",
       "      <td>1.0</td>\n",
       "      <td>0.0</td>\n",
       "      <td>1</td>\n",
       "    </tr>\n",
       "    <tr>\n",
       "      <td>1505</td>\n",
       "      <td>25.090200</td>\n",
       "      <td>55.175145</td>\n",
       "      <td>1441</td>\n",
       "      <td>2.0</td>\n",
       "      <td>2</td>\n",
       "      <td>Medium</td>\n",
       "      <td>0</td>\n",
       "      <td>1</td>\n",
       "      <td>0</td>\n",
       "      <td>1</td>\n",
       "      <td>...</td>\n",
       "      <td>1</td>\n",
       "      <td>1</td>\n",
       "      <td>0.0</td>\n",
       "      <td>0</td>\n",
       "      <td>0</td>\n",
       "      <td>0</td>\n",
       "      <td>1</td>\n",
       "      <td>1.0</td>\n",
       "      <td>0.0</td>\n",
       "      <td>0</td>\n",
       "    </tr>\n",
       "    <tr>\n",
       "      <td>863</td>\n",
       "      <td>25.204135</td>\n",
       "      <td>55.344345</td>\n",
       "      <td>1592</td>\n",
       "      <td>3.0</td>\n",
       "      <td>4</td>\n",
       "      <td>Medium</td>\n",
       "      <td>0</td>\n",
       "      <td>1</td>\n",
       "      <td>0</td>\n",
       "      <td>1</td>\n",
       "      <td>...</td>\n",
       "      <td>0</td>\n",
       "      <td>1</td>\n",
       "      <td>0.0</td>\n",
       "      <td>0</td>\n",
       "      <td>0</td>\n",
       "      <td>0</td>\n",
       "      <td>0</td>\n",
       "      <td>1.0</td>\n",
       "      <td>0.0</td>\n",
       "      <td>1</td>\n",
       "    </tr>\n",
       "    <tr>\n",
       "      <td>1640</td>\n",
       "      <td>25.013504</td>\n",
       "      <td>55.254337</td>\n",
       "      <td>1619</td>\n",
       "      <td>2.0</td>\n",
       "      <td>2</td>\n",
       "      <td>Low</td>\n",
       "      <td>0</td>\n",
       "      <td>0</td>\n",
       "      <td>0</td>\n",
       "      <td>1</td>\n",
       "      <td>...</td>\n",
       "      <td>0</td>\n",
       "      <td>0</td>\n",
       "      <td>1.0</td>\n",
       "      <td>0</td>\n",
       "      <td>0</td>\n",
       "      <td>0</td>\n",
       "      <td>0</td>\n",
       "      <td>0.0</td>\n",
       "      <td>0.0</td>\n",
       "      <td>0</td>\n",
       "    </tr>\n",
       "    <tr>\n",
       "      <td>141</td>\n",
       "      <td>25.194935</td>\n",
       "      <td>55.282665</td>\n",
       "      <td>2310</td>\n",
       "      <td>3.0</td>\n",
       "      <td>4</td>\n",
       "      <td>Medium</td>\n",
       "      <td>1</td>\n",
       "      <td>1</td>\n",
       "      <td>0</td>\n",
       "      <td>0</td>\n",
       "      <td>...</td>\n",
       "      <td>0</td>\n",
       "      <td>0</td>\n",
       "      <td>0.0</td>\n",
       "      <td>0</td>\n",
       "      <td>0</td>\n",
       "      <td>0</td>\n",
       "      <td>0</td>\n",
       "      <td>1.0</td>\n",
       "      <td>0.0</td>\n",
       "      <td>1</td>\n",
       "    </tr>\n",
       "  </tbody>\n",
       "</table>\n",
       "<p>5 rows × 21 columns</p>\n",
       "</div>"
      ],
      "text/plain": [
       "       latitude  longitude  size_in_sqft  no_of_bedrooms no_of_bathrooms  \\\n",
       "1755  25.080143  55.152381           398             0.0               1   \n",
       "1505  25.090200  55.175145          1441             2.0               2   \n",
       "863   25.204135  55.344345          1592             3.0               4   \n",
       "1640  25.013504  55.254337          1619             2.0               2   \n",
       "141   25.194935  55.282665          2310             3.0               4   \n",
       "\n",
       "     quality  furnished  balcony  barbecue_area  central_ac  ...  concierge  \\\n",
       "1755  Medium          0        0              0           1  ...          1   \n",
       "1505  Medium          0        1              0           1  ...          1   \n",
       "863   Medium          0        1              0           1  ...          0   \n",
       "1640     Low          0        0              0           1  ...          0   \n",
       "141   Medium          1        1              0           0  ...          0   \n",
       "\n",
       "      covered_parking  pets_allowed  private_garden  private_gym  \\\n",
       "1755                1           0.0               0            0   \n",
       "1505                1           0.0               0            0   \n",
       "863                 1           0.0               0            0   \n",
       "1640                0           1.0               0            0   \n",
       "141                 0           0.0               0            0   \n",
       "\n",
       "      private_pool  security  shared_gym  view_of_landmark  view_of_water  \n",
       "1755             0         1         1.0               0.0              1  \n",
       "1505             0         1         1.0               0.0              0  \n",
       "863              0         0         1.0               0.0              1  \n",
       "1640             0         0         0.0               0.0              0  \n",
       "141              0         0         1.0               0.0              1  \n",
       "\n",
       "[5 rows x 21 columns]"
      ]
     },
     "execution_count": 28,
     "metadata": {},
     "output_type": "execute_result"
    }
   ],
   "source": [
    "X_train.head()"
   ]
  },
  {
   "cell_type": "markdown",
   "metadata": {},
   "source": [
    "## Analiza wartości odstających"
   ]
  },
  {
   "cell_type": "code",
   "execution_count": 29,
   "metadata": {},
   "outputs": [
    {
     "data": {
      "text/plain": [
       "<matplotlib.axes._subplots.AxesSubplot at 0x1c0b145f4c8>"
      ]
     },
     "execution_count": 29,
     "metadata": {},
     "output_type": "execute_result"
    },
    {
     "data": {
      "image/png": "[encoded data removed]",
      "text/plain": [
       "<Figure size 432x288 with 1 Axes>"
      ]
     },
     "metadata": {},
     "output_type": "display_data"
    }
   ],
   "source": [
    "sns.boxplot(X_train[\"latitude\"])"
   ]
  },
  {
   "cell_type": "code",
   "execution_count": 30,
   "metadata": {},
   "outputs": [
    {
     "data": {
      "text/plain": [
       "<matplotlib.axes._subplots.AxesSubplot at 0x1c0b14d9bc8>"
      ]
     },
     "execution_count": 30,
     "metadata": {},
     "output_type": "execute_result"
    },
    {
     "data": {
      "image/png": "[encoded data removed]",
      "text/plain": [
       "<Figure size 432x288 with 1 Axes>"
      ]
     },
     "metadata": {},
     "output_type": "display_data"
    }
   ],
   "source": [
    "sns.boxplot(X_test[\"latitude\"])"
   ]
  },
  {
   "cell_type": "code",
   "execution_count": 31,
   "metadata": {},
   "outputs": [
    {
     "data": {
      "text/plain": [
       "<matplotlib.axes._subplots.AxesSubplot at 0x1c0b14f6548>"
      ]
     },
     "execution_count": 31,
     "metadata": {},
     "output_type": "execute_result"
    },
    {
     "data": {
      "image/png": "[encoded data removed]",
      "text/plain": [
       "<Figure size 432x288 with 1 Axes>"
      ]
     },
     "metadata": {},
     "output_type": "display_data"
    }
   ],
   "source": [
    "sns.boxplot(X_train[\"longitude\"])"
   ]
  },
  {
   "cell_type": "code",
   "execution_count": 32,
   "metadata": {},
   "outputs": [
    {
     "data": {
      "text/plain": [
       "<matplotlib.axes._subplots.AxesSubplot at 0x1c0b1596dc8>"
      ]
     },
     "execution_count": 32,
     "metadata": {},
     "output_type": "execute_result"
    },
    {
     "data": {
      "image/png": "[encoded data removed]",
      "text/plain": [
       "<Figure size 432x288 with 1 Axes>"
      ]
     },
     "metadata": {},
     "output_type": "display_data"
    }
   ],
   "source": [
    "sns.boxplot(X_test[\"longitude\"])"
   ]
  },
  {
   "cell_type": "code",
   "execution_count": 33,
   "metadata": {},
   "outputs": [
    {
     "data": {
      "text/plain": [
       "<matplotlib.axes._subplots.AxesSubplot at 0x1c0b1625dc8>"
      ]
     },
     "execution_count": 33,
     "metadata": {},
     "output_type": "execute_result"
    },
    {
     "data": {
      "image/png": "[encoded data removed]",
      "text/plain": [
       "<Figure size 432x288 with 1 Axes>"
      ]
     },
     "metadata": {},
     "output_type": "display_data"
    }
   ],
   "source": [
    "sns.boxplot(X_train[\"size_in_sqft\"])"
   ]
  },
  {
   "cell_type": "code",
   "execution_count": 34,
   "metadata": {},
   "outputs": [
    {
     "data": {
      "text/plain": [
       "<matplotlib.axes._subplots.AxesSubplot at 0x1c0b1665f08>"
      ]
     },
     "execution_count": 34,
     "metadata": {},
     "output_type": "execute_result"
    },
    {
     "data": {
      "image/png": "[encoded data removed]",
      "text/plain": [
       "<Figure size 432x288 with 1 Axes>"
      ]
     },
     "metadata": {},
     "output_type": "display_data"
    }
   ],
   "source": [
    "sns.boxplot(X_test[\"size_in_sqft\"])"
   ]
  },
  {
   "cell_type": "markdown",
   "metadata": {},
   "source": [
    "## Winsoryzacja"
   ]
  },
  {
   "cell_type": "code",
   "execution_count": 35,
   "metadata": {},
   "outputs": [],
   "source": [
    "zmienne=[\"latitude\", \"longitude\", \"size_in_sqft\"]"
   ]
  },
  {
   "cell_type": "code",
   "execution_count": 36,
   "metadata": {},
   "outputs": [],
   "source": [
    "for i in zmienne:\n",
    "    min_threshold, max_threshold= X_train[i].quantile([0.001, 0.999])\n",
    "    index_max_train=X_train[X_train[i]>max_threshold].index\n",
    "    index_min_train=X_train[X_train[i]<min_threshold].index\n",
    "    index_max_test=X_test[X_test[i]>max_threshold].index\n",
    "    index_min_test=X_test[X_test[i]<min_threshold].index\n",
    "    X_train.loc[index_max_train, i]=max_threshold\n",
    "    X_train.loc[index_min_train, i]=min_threshold\n",
    "    X_test.loc[index_max_test, i]=max_threshold\n",
    "    X_test.loc[index_min_test, i]=min_threshold\n",
    "    "
   ]
  },
  {
   "cell_type": "code",
   "execution_count": 37,
   "metadata": {},
   "outputs": [
    {
     "data": {
      "text/plain": [
       "<matplotlib.axes._subplots.AxesSubplot at 0x1c0b1596048>"
      ]
     },
     "execution_count": 37,
     "metadata": {},
     "output_type": "execute_result"
    },
    {
     "data": {
      "image/png": "[encoded data removed]",
      "text/plain": [
       "<Figure size 432x288 with 1 Axes>"
      ]
     },
     "metadata": {},
     "output_type": "display_data"
    }
   ],
   "source": [
    "sns.boxplot(X_test[\"latitude\"])"
   ]
  },
  {
   "cell_type": "code",
   "execution_count": 38,
   "metadata": {},
   "outputs": [
    {
     "data": {
      "text/plain": [
       "<matplotlib.axes._subplots.AxesSubplot at 0x1c0b173fe88>"
      ]
     },
     "execution_count": 38,
     "metadata": {},
     "output_type": "execute_result"
    },
    {
     "data": {
      "image/png": "[encoded data removed]",
      "text/plain": [
       "<Figure size 432x288 with 1 Axes>"
      ]
     },
     "metadata": {},
     "output_type": "display_data"
    }
   ],
   "source": [
    "sns.boxplot(X_train[\"size_in_sqft\"])"
   ]
  },
  {
   "cell_type": "code",
   "execution_count": 39,
   "metadata": {},
   "outputs": [
    {
     "data": {
      "text/plain": [
       "<matplotlib.axes._subplots.AxesSubplot at 0x1c0b2a20a88>"
      ]
     },
     "execution_count": 39,
     "metadata": {},
     "output_type": "execute_result"
    },
    {
     "data": {
      "image/png": "[encoded data removed]",
      "text/plain": [
       "<Figure size 432x288 with 1 Axes>"
      ]
     },
     "metadata": {},
     "output_type": "display_data"
    }
   ],
   "source": [
    "sns.boxplot(X_test[\"size_in_sqft\"])"
   ]
  },
  {
   "cell_type": "markdown",
   "metadata": {},
   "source": [
    "## Transformacja"
   ]
  },
  {
   "cell_type": "code",
   "execution_count": 40,
   "metadata": {},
   "outputs": [],
   "source": [
    "from sklearn.model_selection import train_test_split"
   ]
  },
  {
   "cell_type": "code",
   "execution_count": 41,
   "metadata": {},
   "outputs": [
    {
     "data": {
      "text/plain": [
       "2.5828556644338834"
      ]
     },
     "execution_count": 41,
     "metadata": {},
     "output_type": "execute_result"
    }
   ],
   "source": [
    "X_train[\"size_in_sqft\"].skew()"
   ]
  },
  {
   "cell_type": "code",
   "execution_count": 42,
   "metadata": {},
   "outputs": [],
   "source": [
    "X_train[\"size_in_sqft\"]=np.log10(X_train[\"size_in_sqft\"])"
   ]
  },
  {
   "cell_type": "code",
   "execution_count": 43,
   "metadata": {},
   "outputs": [],
   "source": [
    "X_test[\"size_in_sqft\"]=np.log10(X_test[\"size_in_sqft\"])"
   ]
  },
  {
   "cell_type": "code",
   "execution_count": 44,
   "metadata": {},
   "outputs": [
    {
     "data": {
      "text/plain": [
       "<matplotlib.axes._subplots.AxesSubplot at 0x1c0b1734c48>"
      ]
     },
     "execution_count": 44,
     "metadata": {},
     "output_type": "execute_result"
    },
    {
     "data": {
      "image/png": "[encoded data removed]",
      "text/plain": [
       "<Figure size 432x288 with 1 Axes>"
      ]
     },
     "metadata": {},
     "output_type": "display_data"
    }
   ],
   "source": [
    "sns.boxplot(X_train[\"size_in_sqft\"])"
   ]
  },
  {
   "cell_type": "code",
   "execution_count": 45,
   "metadata": {},
   "outputs": [
    {
     "data": {
      "text/plain": [
       "<matplotlib.axes._subplots.AxesSubplot at 0x1c0b2b19088>"
      ]
     },
     "execution_count": 45,
     "metadata": {},
     "output_type": "execute_result"
    },
    {
     "data": {
      "image/png": "[encoded data removed]",
      "text/plain": [
       "<Figure size 432x288 with 1 Axes>"
      ]
     },
     "metadata": {},
     "output_type": "display_data"
    }
   ],
   "source": [
    "sns.boxplot(X_test[\"size_in_sqft\"])"
   ]
  },
  {
   "cell_type": "markdown",
   "metadata": {},
   "source": [
    "## Braki danych "
   ]
  },
  {
   "cell_type": "code",
   "execution_count": 46,
   "metadata": {},
   "outputs": [
    {
     "data": {
      "text/plain": [
       "latitude                13\n",
       "longitude                0\n",
       "size_in_sqft             0\n",
       "no_of_bedrooms          69\n",
       "no_of_bathrooms          0\n",
       "quality                  0\n",
       "furnished                0\n",
       "balcony                  0\n",
       "barbecue_area            0\n",
       "central_ac               0\n",
       "childrens_play_area      0\n",
       "concierge                0\n",
       "covered_parking          0\n",
       "pets_allowed            27\n",
       "private_garden           0\n",
       "private_gym              0\n",
       "private_pool             0\n",
       "security                 0\n",
       "shared_gym              14\n",
       "view_of_landmark       109\n",
       "view_of_water            0\n",
       "dtype: int64"
      ]
     },
     "execution_count": 46,
     "metadata": {},
     "output_type": "execute_result"
    }
   ],
   "source": [
    "X_train.isnull().sum()"
   ]
  },
  {
   "cell_type": "code",
   "execution_count": 47,
   "metadata": {},
   "outputs": [
    {
     "data": {
      "text/plain": [
       "latitude                2\n",
       "longitude               0\n",
       "size_in_sqft            0\n",
       "no_of_bedrooms         25\n",
       "no_of_bathrooms         0\n",
       "quality                 0\n",
       "furnished               0\n",
       "balcony                 0\n",
       "barbecue_area           0\n",
       "central_ac              0\n",
       "childrens_play_area     0\n",
       "concierge               0\n",
       "covered_parking         0\n",
       "pets_allowed           14\n",
       "private_garden          0\n",
       "private_gym             0\n",
       "private_pool            0\n",
       "security                0\n",
       "shared_gym              6\n",
       "view_of_landmark       42\n",
       "view_of_water           0\n",
       "dtype: int64"
      ]
     },
     "execution_count": 47,
     "metadata": {},
     "output_type": "execute_result"
    }
   ],
   "source": [
    "X_test.isnull().sum()"
   ]
  },
  {
   "cell_type": "code",
   "execution_count": 48,
   "metadata": {},
   "outputs": [],
   "source": [
    "# uzupełnianie zmiennej latitude"
   ]
  },
  {
   "cell_type": "code",
   "execution_count": 49,
   "metadata": {},
   "outputs": [
    {
     "data": {
      "text/plain": [
       "0.30013093733483265"
      ]
     },
     "execution_count": 49,
     "metadata": {},
     "output_type": "execute_result"
    }
   ],
   "source": [
    "X_train['latitude'].skew()"
   ]
  },
  {
   "cell_type": "code",
   "execution_count": 50,
   "metadata": {},
   "outputs": [],
   "source": [
    "X_train['latitude'].fillna(X_train['latitude'].mean(), inplace=True)"
   ]
  },
  {
   "cell_type": "code",
   "execution_count": 51,
   "metadata": {},
   "outputs": [],
   "source": [
    "X_test['latitude'].fillna(X_train['latitude'].mean(), inplace=True)"
   ]
  },
  {
   "cell_type": "code",
   "execution_count": 52,
   "metadata": {},
   "outputs": [],
   "source": [
    "# uzupełnianie zmiennej pets_allowed"
   ]
  },
  {
   "cell_type": "code",
   "execution_count": 53,
   "metadata": {},
   "outputs": [
    {
     "data": {
      "text/plain": [
       "0.0    921\n",
       "1.0    385\n",
       "Name: pets_allowed, dtype: int64"
      ]
     },
     "execution_count": 53,
     "metadata": {},
     "output_type": "execute_result"
    }
   ],
   "source": [
    "X_train[\"pets_allowed\"].value_counts()"
   ]
  },
  {
   "cell_type": "code",
   "execution_count": 54,
   "metadata": {},
   "outputs": [],
   "source": [
    "X_train[\"pets_allowed\"].fillna(0.0, inplace=True)"
   ]
  },
  {
   "cell_type": "code",
   "execution_count": 55,
   "metadata": {},
   "outputs": [],
   "source": [
    "X_test[\"pets_allowed\"].fillna(0.0, inplace=True)"
   ]
  },
  {
   "cell_type": "code",
   "execution_count": 56,
   "metadata": {},
   "outputs": [],
   "source": [
    "# uzupełnianie zmiennej shared_gym"
   ]
  },
  {
   "cell_type": "code",
   "execution_count": 57,
   "metadata": {},
   "outputs": [
    {
     "data": {
      "text/plain": [
       "1.0    871\n",
       "0.0    448\n",
       "Name: shared_gym, dtype: int64"
      ]
     },
     "execution_count": 57,
     "metadata": {},
     "output_type": "execute_result"
    }
   ],
   "source": [
    "X_train[\"shared_gym\"].value_counts()"
   ]
  },
  {
   "cell_type": "code",
   "execution_count": 58,
   "metadata": {},
   "outputs": [],
   "source": [
    "X_train[\"shared_gym\"].fillna(1.0, inplace=True)"
   ]
  },
  {
   "cell_type": "code",
   "execution_count": 59,
   "metadata": {},
   "outputs": [],
   "source": [
    "X_test[\"shared_gym\"].fillna(1.0, inplace=True)"
   ]
  },
  {
   "cell_type": "code",
   "execution_count": 60,
   "metadata": {},
   "outputs": [],
   "source": [
    "#zmienna view_of_landmark"
   ]
  },
  {
   "cell_type": "code",
   "execution_count": 61,
   "metadata": {},
   "outputs": [
    {
     "data": {
      "text/plain": [
       "0.0    971\n",
       "1.0    253\n",
       "Name: view_of_landmark, dtype: int64"
      ]
     },
     "execution_count": 61,
     "metadata": {},
     "output_type": "execute_result"
    }
   ],
   "source": [
    "X_train[\"view_of_landmark\"].value_counts()"
   ]
  },
  {
   "cell_type": "code",
   "execution_count": 62,
   "metadata": {},
   "outputs": [
    {
     "data": {
      "text/html": [
       "<div>\n",
       "<style scoped>\n",
       "    .dataframe tbody tr th:only-of-type {\n",
       "        vertical-align: middle;\n",
       "    }\n",
       "\n",
       "    .dataframe tbody tr th {\n",
       "        vertical-align: top;\n",
       "    }\n",
       "\n",
       "    .dataframe thead tr th {\n",
       "        text-align: left;\n",
       "    }\n",
       "\n",
       "    .dataframe thead tr:last-of-type th {\n",
       "        text-align: right;\n",
       "    }\n",
       "</style>\n",
       "<table border=\"1\" class=\"dataframe\">\n",
       "  <thead>\n",
       "    <tr>\n",
       "      <th></th>\n",
       "      <th>security</th>\n",
       "    </tr>\n",
       "    <tr>\n",
       "      <th></th>\n",
       "      <th>mean</th>\n",
       "    </tr>\n",
       "    <tr>\n",
       "      <th>view_of_landmark</th>\n",
       "      <th></th>\n",
       "    </tr>\n",
       "  </thead>\n",
       "  <tbody>\n",
       "    <tr>\n",
       "      <td>0.0</td>\n",
       "      <td>0.233780</td>\n",
       "    </tr>\n",
       "    <tr>\n",
       "      <td>1.0</td>\n",
       "      <td>0.774704</td>\n",
       "    </tr>\n",
       "  </tbody>\n",
       "</table>\n",
       "</div>"
      ],
      "text/plain": [
       "                  security\n",
       "                      mean\n",
       "view_of_landmark          \n",
       "0.0               0.233780\n",
       "1.0               0.774704"
      ]
     },
     "execution_count": 62,
     "metadata": {},
     "output_type": "execute_result"
    }
   ],
   "source": [
    "X_train.groupby(\"view_of_landmark\").agg({\"security\":[\"mean\"]})"
   ]
  },
  {
   "cell_type": "code",
   "execution_count": 63,
   "metadata": {},
   "outputs": [],
   "source": [
    "def braki(x):\n",
    "    if x[\"security\"]==1:\n",
    "        return 1.0\n",
    "    else:\n",
    "        return 0.0"
   ]
  },
  {
   "cell_type": "code",
   "execution_count": 64,
   "metadata": {},
   "outputs": [],
   "source": [
    "X_train.loc[:, \"view_of_landmark\"]=np.where(X_train[\"view_of_landmark\"].isna(),X_train.apply(braki, axis=1), X_train[\"view_of_landmark\"])"
   ]
  },
  {
   "cell_type": "code",
   "execution_count": 65,
   "metadata": {},
   "outputs": [],
   "source": [
    "X_test.loc[:, \"view_of_landmark\"]=np.where(X_test[\"view_of_landmark\"].isna(),X_test.apply(braki, axis=1), X_test[\"view_of_landmark\"])"
   ]
  },
  {
   "cell_type": "code",
   "execution_count": 66,
   "metadata": {},
   "outputs": [],
   "source": [
    "X_train.drop(\"no_of_bedrooms\", axis=1, inplace=True)"
   ]
  },
  {
   "cell_type": "code",
   "execution_count": 67,
   "metadata": {},
   "outputs": [],
   "source": [
    "X_test.drop(\"no_of_bedrooms\", axis=1, inplace=True)"
   ]
  },
  {
   "cell_type": "code",
   "execution_count": 68,
   "metadata": {},
   "outputs": [
    {
     "data": {
      "text/plain": [
       "latitude               0\n",
       "longitude              0\n",
       "size_in_sqft           0\n",
       "no_of_bathrooms        0\n",
       "quality                0\n",
       "furnished              0\n",
       "balcony                0\n",
       "barbecue_area          0\n",
       "central_ac             0\n",
       "childrens_play_area    0\n",
       "concierge              0\n",
       "covered_parking        0\n",
       "pets_allowed           0\n",
       "private_garden         0\n",
       "private_gym            0\n",
       "private_pool           0\n",
       "security               0\n",
       "shared_gym             0\n",
       "view_of_landmark       0\n",
       "view_of_water          0\n",
       "dtype: int64"
      ]
     },
     "execution_count": 68,
     "metadata": {},
     "output_type": "execute_result"
    }
   ],
   "source": [
    "X_train.isnull().sum()"
   ]
  },
  {
   "cell_type": "code",
   "execution_count": 69,
   "metadata": {},
   "outputs": [
    {
     "data": {
      "text/plain": [
       "latitude               0\n",
       "longitude              0\n",
       "size_in_sqft           0\n",
       "no_of_bathrooms        0\n",
       "quality                0\n",
       "furnished              0\n",
       "balcony                0\n",
       "barbecue_area          0\n",
       "central_ac             0\n",
       "childrens_play_area    0\n",
       "concierge              0\n",
       "covered_parking        0\n",
       "pets_allowed           0\n",
       "private_garden         0\n",
       "private_gym            0\n",
       "private_pool           0\n",
       "security               0\n",
       "shared_gym             0\n",
       "view_of_landmark       0\n",
       "view_of_water          0\n",
       "dtype: int64"
      ]
     },
     "execution_count": 69,
     "metadata": {},
     "output_type": "execute_result"
    }
   ],
   "source": [
    "X_test.isnull().sum()"
   ]
  },
  {
   "cell_type": "markdown",
   "metadata": {},
   "source": [
    "## One Hot Encoding"
   ]
  },
  {
   "cell_type": "code",
   "execution_count": 70,
   "metadata": {},
   "outputs": [],
   "source": [
    "to_dummify=[\"quality\", \"no_of_bathrooms\"]"
   ]
  },
  {
   "cell_type": "code",
   "execution_count": 71,
   "metadata": {},
   "outputs": [],
   "source": [
    "## zbiór testowy"
   ]
  },
  {
   "cell_type": "code",
   "execution_count": 72,
   "metadata": {},
   "outputs": [],
   "source": [
    "for x in to_dummify:\n",
    "    dummy_test=pd.get_dummies(X_test[x], prefix=x)\n",
    "    mask=str(X_train[x].value_counts().index[0])\n",
    "    dummy_test.drop(x+\"_\"+mask, inplace=True, axis=1)\n",
    "    X_test=pd.concat([X_test, dummy_test], axis=1)\n",
    "    X_test.drop(x,inplace=True, axis=1)\n",
    "    "
   ]
  },
  {
   "cell_type": "code",
   "execution_count": 73,
   "metadata": {},
   "outputs": [],
   "source": [
    "for x in to_dummify:\n",
    "    dummy_train=pd.get_dummies(X_train[x], prefix=x)\n",
    "    mask=str(X_train[x].value_counts().index[0])\n",
    "    dummy_train.drop(x+\"_\"+mask, inplace=True, axis=1)\n",
    "    X_train=pd.concat([X_train, dummy_train], axis=1)\n",
    "    X_train.drop(x,inplace=True, axis=1)"
   ]
  },
  {
   "cell_type": "markdown",
   "metadata": {},
   "source": [
    "## Standaryzacja zmiennych "
   ]
  },
  {
   "cell_type": "code",
   "execution_count": 74,
   "metadata": {},
   "outputs": [],
   "source": [
    "from sklearn.preprocessing import StandardScaler"
   ]
  },
  {
   "cell_type": "code",
   "execution_count": 75,
   "metadata": {},
   "outputs": [],
   "source": [
    "scale=StandardScaler()"
   ]
  },
  {
   "cell_type": "code",
   "execution_count": 76,
   "metadata": {},
   "outputs": [],
   "source": [
    "zmienne_do_standaryzacji=[\"latitude\",\"longitude\",\"size_in_sqft\"]"
   ]
  },
  {
   "cell_type": "code",
   "execution_count": 77,
   "metadata": {},
   "outputs": [
    {
     "data": {
      "text/plain": [
       "StandardScaler()"
      ]
     },
     "execution_count": 77,
     "metadata": {},
     "output_type": "execute_result"
    }
   ],
   "source": [
    "scale.fit(X_train[zmienne_do_standaryzacji])"
   ]
  },
  {
   "cell_type": "code",
   "execution_count": 78,
   "metadata": {},
   "outputs": [],
   "source": [
    "# X_train"
   ]
  },
  {
   "cell_type": "code",
   "execution_count": 79,
   "metadata": {},
   "outputs": [],
   "source": [
    "transformed=scale.transform(X_train[zmienne_do_standaryzacji])"
   ]
  },
  {
   "cell_type": "code",
   "execution_count": 80,
   "metadata": {},
   "outputs": [
    {
     "data": {
      "text/plain": [
       "array([[-0.57007887, -0.87024521, -2.12525153],\n",
       "       [-0.40715711, -0.53515839,  0.31124951],\n",
       "       [ 1.43857131,  1.95547108,  0.49996306],\n",
       "       ...,\n",
       "       [-1.29962233,  0.14752727, -1.90538141],\n",
       "       [ 1.29440896,  0.84110575, -0.30449493],\n",
       "       [ 1.39108958,  0.86389236,  1.74783795]])"
      ]
     },
     "execution_count": 80,
     "metadata": {},
     "output_type": "execute_result"
    }
   ],
   "source": [
    "transformed"
   ]
  },
  {
   "cell_type": "code",
   "execution_count": 81,
   "metadata": {},
   "outputs": [],
   "source": [
    "X_train_scaled=pd.DataFrame(transformed)"
   ]
  },
  {
   "cell_type": "code",
   "execution_count": 82,
   "metadata": {},
   "outputs": [
    {
     "data": {
      "text/html": [
       "<div>\n",
       "<style scoped>\n",
       "    .dataframe tbody tr th:only-of-type {\n",
       "        vertical-align: middle;\n",
       "    }\n",
       "\n",
       "    .dataframe tbody tr th {\n",
       "        vertical-align: top;\n",
       "    }\n",
       "\n",
       "    .dataframe thead th {\n",
       "        text-align: right;\n",
       "    }\n",
       "</style>\n",
       "<table border=\"1\" class=\"dataframe\">\n",
       "  <thead>\n",
       "    <tr style=\"text-align: right;\">\n",
       "      <th></th>\n",
       "      <th>0</th>\n",
       "      <th>1</th>\n",
       "      <th>2</th>\n",
       "    </tr>\n",
       "  </thead>\n",
       "  <tbody>\n",
       "    <tr>\n",
       "      <td>0</td>\n",
       "      <td>-0.570079</td>\n",
       "      <td>-0.870245</td>\n",
       "      <td>-2.125252</td>\n",
       "    </tr>\n",
       "    <tr>\n",
       "      <td>1</td>\n",
       "      <td>-0.407157</td>\n",
       "      <td>-0.535158</td>\n",
       "      <td>0.311250</td>\n",
       "    </tr>\n",
       "    <tr>\n",
       "      <td>2</td>\n",
       "      <td>1.438571</td>\n",
       "      <td>1.955471</td>\n",
       "      <td>0.499963</td>\n",
       "    </tr>\n",
       "    <tr>\n",
       "      <td>3</td>\n",
       "      <td>-1.649620</td>\n",
       "      <td>0.630550</td>\n",
       "      <td>0.531810</td>\n",
       "    </tr>\n",
       "    <tr>\n",
       "      <td>4</td>\n",
       "      <td>1.289533</td>\n",
       "      <td>1.047539</td>\n",
       "      <td>1.204902</td>\n",
       "    </tr>\n",
       "  </tbody>\n",
       "</table>\n",
       "</div>"
      ],
      "text/plain": [
       "          0         1         2\n",
       "0 -0.570079 -0.870245 -2.125252\n",
       "1 -0.407157 -0.535158  0.311250\n",
       "2  1.438571  1.955471  0.499963\n",
       "3 -1.649620  0.630550  0.531810\n",
       "4  1.289533  1.047539  1.204902"
      ]
     },
     "execution_count": 82,
     "metadata": {},
     "output_type": "execute_result"
    }
   ],
   "source": [
    "X_train_scaled.head()"
   ]
  },
  {
   "cell_type": "code",
   "execution_count": 83,
   "metadata": {},
   "outputs": [],
   "source": [
    "X_train_scaled.rename({0:\"latitude\",1:\"longitude\",2:\"size_in_sqft\"}, axis=1, inplace=True)"
   ]
  },
  {
   "cell_type": "code",
   "execution_count": 84,
   "metadata": {},
   "outputs": [
    {
     "data": {
      "text/html": [
       "<div>\n",
       "<style scoped>\n",
       "    .dataframe tbody tr th:only-of-type {\n",
       "        vertical-align: middle;\n",
       "    }\n",
       "\n",
       "    .dataframe tbody tr th {\n",
       "        vertical-align: top;\n",
       "    }\n",
       "\n",
       "    .dataframe thead th {\n",
       "        text-align: right;\n",
       "    }\n",
       "</style>\n",
       "<table border=\"1\" class=\"dataframe\">\n",
       "  <thead>\n",
       "    <tr style=\"text-align: right;\">\n",
       "      <th></th>\n",
       "      <th>latitude</th>\n",
       "      <th>longitude</th>\n",
       "      <th>size_in_sqft</th>\n",
       "    </tr>\n",
       "  </thead>\n",
       "  <tbody>\n",
       "    <tr>\n",
       "      <td>0</td>\n",
       "      <td>-0.570079</td>\n",
       "      <td>-0.870245</td>\n",
       "      <td>-2.125252</td>\n",
       "    </tr>\n",
       "    <tr>\n",
       "      <td>1</td>\n",
       "      <td>-0.407157</td>\n",
       "      <td>-0.535158</td>\n",
       "      <td>0.311250</td>\n",
       "    </tr>\n",
       "    <tr>\n",
       "      <td>2</td>\n",
       "      <td>1.438571</td>\n",
       "      <td>1.955471</td>\n",
       "      <td>0.499963</td>\n",
       "    </tr>\n",
       "    <tr>\n",
       "      <td>3</td>\n",
       "      <td>-1.649620</td>\n",
       "      <td>0.630550</td>\n",
       "      <td>0.531810</td>\n",
       "    </tr>\n",
       "    <tr>\n",
       "      <td>4</td>\n",
       "      <td>1.289533</td>\n",
       "      <td>1.047539</td>\n",
       "      <td>1.204902</td>\n",
       "    </tr>\n",
       "  </tbody>\n",
       "</table>\n",
       "</div>"
      ],
      "text/plain": [
       "   latitude  longitude  size_in_sqft\n",
       "0 -0.570079  -0.870245     -2.125252\n",
       "1 -0.407157  -0.535158      0.311250\n",
       "2  1.438571   1.955471      0.499963\n",
       "3 -1.649620   0.630550      0.531810\n",
       "4  1.289533   1.047539      1.204902"
      ]
     },
     "execution_count": 84,
     "metadata": {},
     "output_type": "execute_result"
    }
   ],
   "source": [
    "X_train_scaled.head()"
   ]
  },
  {
   "cell_type": "code",
   "execution_count": 85,
   "metadata": {},
   "outputs": [
    {
     "data": {
      "text/html": [
       "<div>\n",
       "<style scoped>\n",
       "    .dataframe tbody tr th:only-of-type {\n",
       "        vertical-align: middle;\n",
       "    }\n",
       "\n",
       "    .dataframe tbody tr th {\n",
       "        vertical-align: top;\n",
       "    }\n",
       "\n",
       "    .dataframe thead th {\n",
       "        text-align: right;\n",
       "    }\n",
       "</style>\n",
       "<table border=\"1\" class=\"dataframe\">\n",
       "  <thead>\n",
       "    <tr style=\"text-align: right;\">\n",
       "      <th></th>\n",
       "      <th>latitude</th>\n",
       "      <th>longitude</th>\n",
       "      <th>size_in_sqft</th>\n",
       "    </tr>\n",
       "  </thead>\n",
       "  <tbody>\n",
       "    <tr>\n",
       "      <td>count</td>\n",
       "      <td>1333.00</td>\n",
       "      <td>1333.00</td>\n",
       "      <td>1333.00</td>\n",
       "    </tr>\n",
       "    <tr>\n",
       "      <td>mean</td>\n",
       "      <td>0.00</td>\n",
       "      <td>-0.00</td>\n",
       "      <td>-0.00</td>\n",
       "    </tr>\n",
       "    <tr>\n",
       "      <td>std</td>\n",
       "      <td>1.00</td>\n",
       "      <td>1.00</td>\n",
       "      <td>1.00</td>\n",
       "    </tr>\n",
       "    <tr>\n",
       "      <td>min</td>\n",
       "      <td>-2.89</td>\n",
       "      <td>-1.50</td>\n",
       "      <td>-2.61</td>\n",
       "    </tr>\n",
       "    <tr>\n",
       "      <td>25%</td>\n",
       "      <td>-0.69</td>\n",
       "      <td>-0.97</td>\n",
       "      <td>-0.74</td>\n",
       "    </tr>\n",
       "    <tr>\n",
       "      <td>50%</td>\n",
       "      <td>-0.33</td>\n",
       "      <td>-0.07</td>\n",
       "      <td>0.07</td>\n",
       "    </tr>\n",
       "    <tr>\n",
       "      <td>75%</td>\n",
       "      <td>1.16</td>\n",
       "      <td>0.88</td>\n",
       "      <td>0.62</td>\n",
       "    </tr>\n",
       "    <tr>\n",
       "      <td>max</td>\n",
       "      <td>2.03</td>\n",
       "      <td>3.39</td>\n",
       "      <td>3.40</td>\n",
       "    </tr>\n",
       "  </tbody>\n",
       "</table>\n",
       "</div>"
      ],
      "text/plain": [
       "       latitude  longitude  size_in_sqft\n",
       "count   1333.00    1333.00       1333.00\n",
       "mean       0.00      -0.00         -0.00\n",
       "std        1.00       1.00          1.00\n",
       "min       -2.89      -1.50         -2.61\n",
       "25%       -0.69      -0.97         -0.74\n",
       "50%       -0.33      -0.07          0.07\n",
       "75%        1.16       0.88          0.62\n",
       "max        2.03       3.39          3.40"
      ]
     },
     "execution_count": 85,
     "metadata": {},
     "output_type": "execute_result"
    }
   ],
   "source": [
    "X_train_scaled.describe().round(2)"
   ]
  },
  {
   "cell_type": "code",
   "execution_count": 86,
   "metadata": {},
   "outputs": [],
   "source": [
    "X_train_new=X_train.drop(zmienne_do_standaryzacji, axis=1).reset_index(drop=True)"
   ]
  },
  {
   "cell_type": "code",
   "execution_count": 87,
   "metadata": {},
   "outputs": [
    {
     "data": {
      "text/html": [
       "<div>\n",
       "<style scoped>\n",
       "    .dataframe tbody tr th:only-of-type {\n",
       "        vertical-align: middle;\n",
       "    }\n",
       "\n",
       "    .dataframe tbody tr th {\n",
       "        vertical-align: top;\n",
       "    }\n",
       "\n",
       "    .dataframe thead th {\n",
       "        text-align: right;\n",
       "    }\n",
       "</style>\n",
       "<table border=\"1\" class=\"dataframe\">\n",
       "  <thead>\n",
       "    <tr style=\"text-align: right;\">\n",
       "      <th></th>\n",
       "      <th>furnished</th>\n",
       "      <th>balcony</th>\n",
       "      <th>barbecue_area</th>\n",
       "      <th>central_ac</th>\n",
       "      <th>childrens_play_area</th>\n",
       "      <th>concierge</th>\n",
       "      <th>covered_parking</th>\n",
       "      <th>pets_allowed</th>\n",
       "      <th>private_garden</th>\n",
       "      <th>private_gym</th>\n",
       "      <th>...</th>\n",
       "      <th>security</th>\n",
       "      <th>shared_gym</th>\n",
       "      <th>view_of_landmark</th>\n",
       "      <th>view_of_water</th>\n",
       "      <th>quality_High&amp;Ultra</th>\n",
       "      <th>quality_Low</th>\n",
       "      <th>no_of_bathrooms_1</th>\n",
       "      <th>no_of_bathrooms_3</th>\n",
       "      <th>no_of_bathrooms_4</th>\n",
       "      <th>no_of_bathrooms_5lub6</th>\n",
       "    </tr>\n",
       "  </thead>\n",
       "  <tbody>\n",
       "    <tr>\n",
       "      <td>0</td>\n",
       "      <td>0</td>\n",
       "      <td>0</td>\n",
       "      <td>0</td>\n",
       "      <td>1</td>\n",
       "      <td>0</td>\n",
       "      <td>1</td>\n",
       "      <td>1</td>\n",
       "      <td>0.0</td>\n",
       "      <td>0</td>\n",
       "      <td>0</td>\n",
       "      <td>...</td>\n",
       "      <td>1</td>\n",
       "      <td>1.0</td>\n",
       "      <td>0.0</td>\n",
       "      <td>1</td>\n",
       "      <td>0</td>\n",
       "      <td>0</td>\n",
       "      <td>1</td>\n",
       "      <td>0</td>\n",
       "      <td>0</td>\n",
       "      <td>0</td>\n",
       "    </tr>\n",
       "    <tr>\n",
       "      <td>1</td>\n",
       "      <td>0</td>\n",
       "      <td>1</td>\n",
       "      <td>0</td>\n",
       "      <td>1</td>\n",
       "      <td>0</td>\n",
       "      <td>1</td>\n",
       "      <td>1</td>\n",
       "      <td>0.0</td>\n",
       "      <td>0</td>\n",
       "      <td>0</td>\n",
       "      <td>...</td>\n",
       "      <td>1</td>\n",
       "      <td>1.0</td>\n",
       "      <td>0.0</td>\n",
       "      <td>0</td>\n",
       "      <td>0</td>\n",
       "      <td>0</td>\n",
       "      <td>0</td>\n",
       "      <td>0</td>\n",
       "      <td>0</td>\n",
       "      <td>0</td>\n",
       "    </tr>\n",
       "    <tr>\n",
       "      <td>2</td>\n",
       "      <td>0</td>\n",
       "      <td>1</td>\n",
       "      <td>0</td>\n",
       "      <td>1</td>\n",
       "      <td>1</td>\n",
       "      <td>0</td>\n",
       "      <td>1</td>\n",
       "      <td>0.0</td>\n",
       "      <td>0</td>\n",
       "      <td>0</td>\n",
       "      <td>...</td>\n",
       "      <td>0</td>\n",
       "      <td>1.0</td>\n",
       "      <td>0.0</td>\n",
       "      <td>1</td>\n",
       "      <td>0</td>\n",
       "      <td>0</td>\n",
       "      <td>0</td>\n",
       "      <td>0</td>\n",
       "      <td>1</td>\n",
       "      <td>0</td>\n",
       "    </tr>\n",
       "    <tr>\n",
       "      <td>3</td>\n",
       "      <td>0</td>\n",
       "      <td>0</td>\n",
       "      <td>0</td>\n",
       "      <td>1</td>\n",
       "      <td>1</td>\n",
       "      <td>0</td>\n",
       "      <td>0</td>\n",
       "      <td>1.0</td>\n",
       "      <td>0</td>\n",
       "      <td>0</td>\n",
       "      <td>...</td>\n",
       "      <td>0</td>\n",
       "      <td>0.0</td>\n",
       "      <td>0.0</td>\n",
       "      <td>0</td>\n",
       "      <td>0</td>\n",
       "      <td>1</td>\n",
       "      <td>0</td>\n",
       "      <td>0</td>\n",
       "      <td>0</td>\n",
       "      <td>0</td>\n",
       "    </tr>\n",
       "    <tr>\n",
       "      <td>4</td>\n",
       "      <td>1</td>\n",
       "      <td>1</td>\n",
       "      <td>0</td>\n",
       "      <td>0</td>\n",
       "      <td>0</td>\n",
       "      <td>0</td>\n",
       "      <td>0</td>\n",
       "      <td>0.0</td>\n",
       "      <td>0</td>\n",
       "      <td>0</td>\n",
       "      <td>...</td>\n",
       "      <td>0</td>\n",
       "      <td>1.0</td>\n",
       "      <td>0.0</td>\n",
       "      <td>1</td>\n",
       "      <td>0</td>\n",
       "      <td>0</td>\n",
       "      <td>0</td>\n",
       "      <td>0</td>\n",
       "      <td>1</td>\n",
       "      <td>0</td>\n",
       "    </tr>\n",
       "  </tbody>\n",
       "</table>\n",
       "<p>5 rows × 21 columns</p>\n",
       "</div>"
      ],
      "text/plain": [
       "   furnished  balcony  barbecue_area  central_ac  childrens_play_area  \\\n",
       "0          0        0              0           1                    0   \n",
       "1          0        1              0           1                    0   \n",
       "2          0        1              0           1                    1   \n",
       "3          0        0              0           1                    1   \n",
       "4          1        1              0           0                    0   \n",
       "\n",
       "   concierge  covered_parking  pets_allowed  private_garden  private_gym  ...  \\\n",
       "0          1                1           0.0               0            0  ...   \n",
       "1          1                1           0.0               0            0  ...   \n",
       "2          0                1           0.0               0            0  ...   \n",
       "3          0                0           1.0               0            0  ...   \n",
       "4          0                0           0.0               0            0  ...   \n",
       "\n",
       "   security  shared_gym  view_of_landmark  view_of_water  quality_High&Ultra  \\\n",
       "0         1         1.0               0.0              1                   0   \n",
       "1         1         1.0               0.0              0                   0   \n",
       "2         0         1.0               0.0              1                   0   \n",
       "3         0         0.0               0.0              0                   0   \n",
       "4         0         1.0               0.0              1                   0   \n",
       "\n",
       "   quality_Low  no_of_bathrooms_1  no_of_bathrooms_3  no_of_bathrooms_4  \\\n",
       "0            0                  1                  0                  0   \n",
       "1            0                  0                  0                  0   \n",
       "2            0                  0                  0                  1   \n",
       "3            1                  0                  0                  0   \n",
       "4            0                  0                  0                  1   \n",
       "\n",
       "   no_of_bathrooms_5lub6  \n",
       "0                      0  \n",
       "1                      0  \n",
       "2                      0  \n",
       "3                      0  \n",
       "4                      0  \n",
       "\n",
       "[5 rows x 21 columns]"
      ]
     },
     "execution_count": 87,
     "metadata": {},
     "output_type": "execute_result"
    }
   ],
   "source": [
    "X_train_new.head()"
   ]
  },
  {
   "cell_type": "code",
   "execution_count": 88,
   "metadata": {},
   "outputs": [],
   "source": [
    "X_train=pd.concat([X_train_new, X_train_scaled], axis=1)"
   ]
  },
  {
   "cell_type": "code",
   "execution_count": 89,
   "metadata": {},
   "outputs": [
    {
     "data": {
      "text/html": [
       "<div>\n",
       "<style scoped>\n",
       "    .dataframe tbody tr th:only-of-type {\n",
       "        vertical-align: middle;\n",
       "    }\n",
       "\n",
       "    .dataframe tbody tr th {\n",
       "        vertical-align: top;\n",
       "    }\n",
       "\n",
       "    .dataframe thead th {\n",
       "        text-align: right;\n",
       "    }\n",
       "</style>\n",
       "<table border=\"1\" class=\"dataframe\">\n",
       "  <thead>\n",
       "    <tr style=\"text-align: right;\">\n",
       "      <th></th>\n",
       "      <th>furnished</th>\n",
       "      <th>balcony</th>\n",
       "      <th>barbecue_area</th>\n",
       "      <th>central_ac</th>\n",
       "      <th>childrens_play_area</th>\n",
       "      <th>concierge</th>\n",
       "      <th>covered_parking</th>\n",
       "      <th>pets_allowed</th>\n",
       "      <th>private_garden</th>\n",
       "      <th>private_gym</th>\n",
       "      <th>...</th>\n",
       "      <th>view_of_water</th>\n",
       "      <th>quality_High&amp;Ultra</th>\n",
       "      <th>quality_Low</th>\n",
       "      <th>no_of_bathrooms_1</th>\n",
       "      <th>no_of_bathrooms_3</th>\n",
       "      <th>no_of_bathrooms_4</th>\n",
       "      <th>no_of_bathrooms_5lub6</th>\n",
       "      <th>latitude</th>\n",
       "      <th>longitude</th>\n",
       "      <th>size_in_sqft</th>\n",
       "    </tr>\n",
       "  </thead>\n",
       "  <tbody>\n",
       "    <tr>\n",
       "      <td>0</td>\n",
       "      <td>0</td>\n",
       "      <td>0</td>\n",
       "      <td>0</td>\n",
       "      <td>1</td>\n",
       "      <td>0</td>\n",
       "      <td>1</td>\n",
       "      <td>1</td>\n",
       "      <td>0.0</td>\n",
       "      <td>0</td>\n",
       "      <td>0</td>\n",
       "      <td>...</td>\n",
       "      <td>1</td>\n",
       "      <td>0</td>\n",
       "      <td>0</td>\n",
       "      <td>1</td>\n",
       "      <td>0</td>\n",
       "      <td>0</td>\n",
       "      <td>0</td>\n",
       "      <td>-0.570079</td>\n",
       "      <td>-0.870245</td>\n",
       "      <td>-2.125252</td>\n",
       "    </tr>\n",
       "    <tr>\n",
       "      <td>1</td>\n",
       "      <td>0</td>\n",
       "      <td>1</td>\n",
       "      <td>0</td>\n",
       "      <td>1</td>\n",
       "      <td>0</td>\n",
       "      <td>1</td>\n",
       "      <td>1</td>\n",
       "      <td>0.0</td>\n",
       "      <td>0</td>\n",
       "      <td>0</td>\n",
       "      <td>...</td>\n",
       "      <td>0</td>\n",
       "      <td>0</td>\n",
       "      <td>0</td>\n",
       "      <td>0</td>\n",
       "      <td>0</td>\n",
       "      <td>0</td>\n",
       "      <td>0</td>\n",
       "      <td>-0.407157</td>\n",
       "      <td>-0.535158</td>\n",
       "      <td>0.311250</td>\n",
       "    </tr>\n",
       "    <tr>\n",
       "      <td>2</td>\n",
       "      <td>0</td>\n",
       "      <td>1</td>\n",
       "      <td>0</td>\n",
       "      <td>1</td>\n",
       "      <td>1</td>\n",
       "      <td>0</td>\n",
       "      <td>1</td>\n",
       "      <td>0.0</td>\n",
       "      <td>0</td>\n",
       "      <td>0</td>\n",
       "      <td>...</td>\n",
       "      <td>1</td>\n",
       "      <td>0</td>\n",
       "      <td>0</td>\n",
       "      <td>0</td>\n",
       "      <td>0</td>\n",
       "      <td>1</td>\n",
       "      <td>0</td>\n",
       "      <td>1.438571</td>\n",
       "      <td>1.955471</td>\n",
       "      <td>0.499963</td>\n",
       "    </tr>\n",
       "    <tr>\n",
       "      <td>3</td>\n",
       "      <td>0</td>\n",
       "      <td>0</td>\n",
       "      <td>0</td>\n",
       "      <td>1</td>\n",
       "      <td>1</td>\n",
       "      <td>0</td>\n",
       "      <td>0</td>\n",
       "      <td>1.0</td>\n",
       "      <td>0</td>\n",
       "      <td>0</td>\n",
       "      <td>...</td>\n",
       "      <td>0</td>\n",
       "      <td>0</td>\n",
       "      <td>1</td>\n",
       "      <td>0</td>\n",
       "      <td>0</td>\n",
       "      <td>0</td>\n",
       "      <td>0</td>\n",
       "      <td>-1.649620</td>\n",
       "      <td>0.630550</td>\n",
       "      <td>0.531810</td>\n",
       "    </tr>\n",
       "    <tr>\n",
       "      <td>4</td>\n",
       "      <td>1</td>\n",
       "      <td>1</td>\n",
       "      <td>0</td>\n",
       "      <td>0</td>\n",
       "      <td>0</td>\n",
       "      <td>0</td>\n",
       "      <td>0</td>\n",
       "      <td>0.0</td>\n",
       "      <td>0</td>\n",
       "      <td>0</td>\n",
       "      <td>...</td>\n",
       "      <td>1</td>\n",
       "      <td>0</td>\n",
       "      <td>0</td>\n",
       "      <td>0</td>\n",
       "      <td>0</td>\n",
       "      <td>1</td>\n",
       "      <td>0</td>\n",
       "      <td>1.289533</td>\n",
       "      <td>1.047539</td>\n",
       "      <td>1.204902</td>\n",
       "    </tr>\n",
       "  </tbody>\n",
       "</table>\n",
       "<p>5 rows × 24 columns</p>\n",
       "</div>"
      ],
      "text/plain": [
       "   furnished  balcony  barbecue_area  central_ac  childrens_play_area  \\\n",
       "0          0        0              0           1                    0   \n",
       "1          0        1              0           1                    0   \n",
       "2          0        1              0           1                    1   \n",
       "3          0        0              0           1                    1   \n",
       "4          1        1              0           0                    0   \n",
       "\n",
       "   concierge  covered_parking  pets_allowed  private_garden  private_gym  ...  \\\n",
       "0          1                1           0.0               0            0  ...   \n",
       "1          1                1           0.0               0            0  ...   \n",
       "2          0                1           0.0               0            0  ...   \n",
       "3          0                0           1.0               0            0  ...   \n",
       "4          0                0           0.0               0            0  ...   \n",
       "\n",
       "   view_of_water  quality_High&Ultra  quality_Low  no_of_bathrooms_1  \\\n",
       "0              1                   0            0                  1   \n",
       "1              0                   0            0                  0   \n",
       "2              1                   0            0                  0   \n",
       "3              0                   0            1                  0   \n",
       "4              1                   0            0                  0   \n",
       "\n",
       "   no_of_bathrooms_3  no_of_bathrooms_4  no_of_bathrooms_5lub6  latitude  \\\n",
       "0                  0                  0                      0 -0.570079   \n",
       "1                  0                  0                      0 -0.407157   \n",
       "2                  0                  1                      0  1.438571   \n",
       "3                  0                  0                      0 -1.649620   \n",
       "4                  0                  1                      0  1.289533   \n",
       "\n",
       "   longitude  size_in_sqft  \n",
       "0  -0.870245     -2.125252  \n",
       "1  -0.535158      0.311250  \n",
       "2   1.955471      0.499963  \n",
       "3   0.630550      0.531810  \n",
       "4   1.047539      1.204902  \n",
       "\n",
       "[5 rows x 24 columns]"
      ]
     },
     "execution_count": 89,
     "metadata": {},
     "output_type": "execute_result"
    }
   ],
   "source": [
    "X_train.head()"
   ]
  },
  {
   "cell_type": "code",
   "execution_count": 90,
   "metadata": {},
   "outputs": [],
   "source": [
    "## X_test"
   ]
  },
  {
   "cell_type": "code",
   "execution_count": 91,
   "metadata": {},
   "outputs": [],
   "source": [
    "zmienne_do_standaryzacji=[\"latitude\",\"longitude\",\"size_in_sqft\"]"
   ]
  },
  {
   "cell_type": "code",
   "execution_count": 92,
   "metadata": {},
   "outputs": [],
   "source": [
    "X_test_scaled=pd.DataFrame(scale.transform(X_test[zmienne_do_standaryzacji]))"
   ]
  },
  {
   "cell_type": "code",
   "execution_count": 93,
   "metadata": {},
   "outputs": [],
   "source": [
    "X_test_scaled.rename({0:\"latitude\",1:\"longitude\",2:\"size_in_sqft\"}, axis=1, inplace=True)"
   ]
  },
  {
   "cell_type": "code",
   "execution_count": 94,
   "metadata": {},
   "outputs": [],
   "source": [
    "X_test_new=X_test.drop(zmienne_do_standaryzacji, axis=1).reset_index(drop=True)"
   ]
  },
  {
   "cell_type": "code",
   "execution_count": 95,
   "metadata": {},
   "outputs": [],
   "source": [
    "X_test=pd.concat([X_test_new,X_test_scaled], axis=1)"
   ]
  },
  {
   "cell_type": "code",
   "execution_count": 96,
   "metadata": {},
   "outputs": [
    {
     "data": {
      "text/html": [
       "<div>\n",
       "<style scoped>\n",
       "    .dataframe tbody tr th:only-of-type {\n",
       "        vertical-align: middle;\n",
       "    }\n",
       "\n",
       "    .dataframe tbody tr th {\n",
       "        vertical-align: top;\n",
       "    }\n",
       "\n",
       "    .dataframe thead th {\n",
       "        text-align: right;\n",
       "    }\n",
       "</style>\n",
       "<table border=\"1\" class=\"dataframe\">\n",
       "  <thead>\n",
       "    <tr style=\"text-align: right;\">\n",
       "      <th></th>\n",
       "      <th>furnished</th>\n",
       "      <th>balcony</th>\n",
       "      <th>barbecue_area</th>\n",
       "      <th>central_ac</th>\n",
       "      <th>childrens_play_area</th>\n",
       "      <th>concierge</th>\n",
       "      <th>covered_parking</th>\n",
       "      <th>pets_allowed</th>\n",
       "      <th>private_garden</th>\n",
       "      <th>private_gym</th>\n",
       "      <th>...</th>\n",
       "      <th>view_of_water</th>\n",
       "      <th>quality_High&amp;Ultra</th>\n",
       "      <th>quality_Low</th>\n",
       "      <th>no_of_bathrooms_1</th>\n",
       "      <th>no_of_bathrooms_3</th>\n",
       "      <th>no_of_bathrooms_4</th>\n",
       "      <th>no_of_bathrooms_5lub6</th>\n",
       "      <th>latitude</th>\n",
       "      <th>longitude</th>\n",
       "      <th>size_in_sqft</th>\n",
       "    </tr>\n",
       "  </thead>\n",
       "  <tbody>\n",
       "    <tr>\n",
       "      <td>0</td>\n",
       "      <td>0</td>\n",
       "      <td>0</td>\n",
       "      <td>0</td>\n",
       "      <td>1</td>\n",
       "      <td>0</td>\n",
       "      <td>0</td>\n",
       "      <td>1</td>\n",
       "      <td>0.0</td>\n",
       "      <td>1</td>\n",
       "      <td>1</td>\n",
       "      <td>...</td>\n",
       "      <td>0</td>\n",
       "      <td>0</td>\n",
       "      <td>0</td>\n",
       "      <td>0</td>\n",
       "      <td>0</td>\n",
       "      <td>0</td>\n",
       "      <td>1</td>\n",
       "      <td>1.314707</td>\n",
       "      <td>0.892405</td>\n",
       "      <td>2.760668</td>\n",
       "    </tr>\n",
       "    <tr>\n",
       "      <td>1</td>\n",
       "      <td>1</td>\n",
       "      <td>0</td>\n",
       "      <td>0</td>\n",
       "      <td>0</td>\n",
       "      <td>0</td>\n",
       "      <td>0</td>\n",
       "      <td>0</td>\n",
       "      <td>0.0</td>\n",
       "      <td>0</td>\n",
       "      <td>0</td>\n",
       "      <td>...</td>\n",
       "      <td>0</td>\n",
       "      <td>0</td>\n",
       "      <td>1</td>\n",
       "      <td>0</td>\n",
       "      <td>0</td>\n",
       "      <td>0</td>\n",
       "      <td>0</td>\n",
       "      <td>-0.119059</td>\n",
       "      <td>0.491976</td>\n",
       "      <td>0.378381</td>\n",
       "    </tr>\n",
       "    <tr>\n",
       "      <td>2</td>\n",
       "      <td>0</td>\n",
       "      <td>1</td>\n",
       "      <td>0</td>\n",
       "      <td>0</td>\n",
       "      <td>0</td>\n",
       "      <td>0</td>\n",
       "      <td>1</td>\n",
       "      <td>0.0</td>\n",
       "      <td>0</td>\n",
       "      <td>0</td>\n",
       "      <td>...</td>\n",
       "      <td>0</td>\n",
       "      <td>0</td>\n",
       "      <td>0</td>\n",
       "      <td>0</td>\n",
       "      <td>1</td>\n",
       "      <td>0</td>\n",
       "      <td>0</td>\n",
       "      <td>-0.710029</td>\n",
       "      <td>-1.220611</td>\n",
       "      <td>0.777206</td>\n",
       "    </tr>\n",
       "    <tr>\n",
       "      <td>3</td>\n",
       "      <td>0</td>\n",
       "      <td>1</td>\n",
       "      <td>0</td>\n",
       "      <td>1</td>\n",
       "      <td>0</td>\n",
       "      <td>0</td>\n",
       "      <td>1</td>\n",
       "      <td>1.0</td>\n",
       "      <td>1</td>\n",
       "      <td>1</td>\n",
       "      <td>...</td>\n",
       "      <td>1</td>\n",
       "      <td>1</td>\n",
       "      <td>0</td>\n",
       "      <td>0</td>\n",
       "      <td>1</td>\n",
       "      <td>0</td>\n",
       "      <td>0</td>\n",
       "      <td>-0.988148</td>\n",
       "      <td>-0.118905</td>\n",
       "      <td>0.040463</td>\n",
       "    </tr>\n",
       "    <tr>\n",
       "      <td>4</td>\n",
       "      <td>0</td>\n",
       "      <td>1</td>\n",
       "      <td>0</td>\n",
       "      <td>1</td>\n",
       "      <td>0</td>\n",
       "      <td>0</td>\n",
       "      <td>1</td>\n",
       "      <td>0.0</td>\n",
       "      <td>0</td>\n",
       "      <td>0</td>\n",
       "      <td>...</td>\n",
       "      <td>1</td>\n",
       "      <td>0</td>\n",
       "      <td>0</td>\n",
       "      <td>0</td>\n",
       "      <td>0</td>\n",
       "      <td>1</td>\n",
       "      <td>0</td>\n",
       "      <td>-0.454930</td>\n",
       "      <td>-0.970444</td>\n",
       "      <td>0.674820</td>\n",
       "    </tr>\n",
       "  </tbody>\n",
       "</table>\n",
       "<p>5 rows × 24 columns</p>\n",
       "</div>"
      ],
      "text/plain": [
       "   furnished  balcony  barbecue_area  central_ac  childrens_play_area  \\\n",
       "0          0        0              0           1                    0   \n",
       "1          1        0              0           0                    0   \n",
       "2          0        1              0           0                    0   \n",
       "3          0        1              0           1                    0   \n",
       "4          0        1              0           1                    0   \n",
       "\n",
       "   concierge  covered_parking  pets_allowed  private_garden  private_gym  ...  \\\n",
       "0          0                1           0.0               1            1  ...   \n",
       "1          0                0           0.0               0            0  ...   \n",
       "2          0                1           0.0               0            0  ...   \n",
       "3          0                1           1.0               1            1  ...   \n",
       "4          0                1           0.0               0            0  ...   \n",
       "\n",
       "   view_of_water  quality_High&Ultra  quality_Low  no_of_bathrooms_1  \\\n",
       "0              0                   0            0                  0   \n",
       "1              0                   0            1                  0   \n",
       "2              0                   0            0                  0   \n",
       "3              1                   1            0                  0   \n",
       "4              1                   0            0                  0   \n",
       "\n",
       "   no_of_bathrooms_3  no_of_bathrooms_4  no_of_bathrooms_5lub6  latitude  \\\n",
       "0                  0                  0                      1  1.314707   \n",
       "1                  0                  0                      0 -0.119059   \n",
       "2                  1                  0                      0 -0.710029   \n",
       "3                  1                  0                      0 -0.988148   \n",
       "4                  0                  1                      0 -0.454930   \n",
       "\n",
       "   longitude  size_in_sqft  \n",
       "0   0.892405      2.760668  \n",
       "1   0.491976      0.378381  \n",
       "2  -1.220611      0.777206  \n",
       "3  -0.118905      0.040463  \n",
       "4  -0.970444      0.674820  \n",
       "\n",
       "[5 rows x 24 columns]"
      ]
     },
     "execution_count": 96,
     "metadata": {},
     "output_type": "execute_result"
    }
   ],
   "source": [
    "X_test.head()"
   ]
  },
  {
   "cell_type": "markdown",
   "metadata": {},
   "source": [
    "### Wybór zmiennych do modelowania"
   ]
  },
  {
   "cell_type": "code",
   "execution_count": 97,
   "metadata": {},
   "outputs": [],
   "source": [
    "from sklearn.linear_model import LinearRegression\n",
    "from sklearn.feature_selection import RFE"
   ]
  },
  {
   "cell_type": "code",
   "execution_count": 98,
   "metadata": {},
   "outputs": [],
   "source": [
    "model=LinearRegression()"
   ]
  },
  {
   "cell_type": "code",
   "execution_count": 99,
   "metadata": {},
   "outputs": [],
   "source": [
    "rfe=RFE(model, n_features_to_select=20)"
   ]
  },
  {
   "cell_type": "code",
   "execution_count": 100,
   "metadata": {},
   "outputs": [],
   "source": [
    "rfe_fit=rfe.fit(X_train, y_train)"
   ]
  },
  {
   "cell_type": "code",
   "execution_count": 101,
   "metadata": {},
   "outputs": [
    {
     "data": {
      "text/plain": [
       "array([False,  True,  True,  True,  True,  True, False,  True,  True,\n",
       "        True,  True,  True,  True,  True,  True,  True, False,  True,\n",
       "        True,  True,  True,  True, False,  True])"
      ]
     },
     "execution_count": 101,
     "metadata": {},
     "output_type": "execute_result"
    }
   ],
   "source": [
    "rfe_fit.support_"
   ]
  },
  {
   "cell_type": "code",
   "execution_count": 102,
   "metadata": {},
   "outputs": [],
   "source": [
    "features=X_train.columns[rfe_fit.support_]"
   ]
  },
  {
   "cell_type": "code",
   "execution_count": 103,
   "metadata": {},
   "outputs": [
    {
     "data": {
      "text/plain": [
       "Index(['balcony', 'barbecue_area', 'central_ac', 'childrens_play_area',\n",
       "       'concierge', 'pets_allowed', 'private_garden', 'private_gym',\n",
       "       'private_pool', 'security', 'shared_gym', 'view_of_landmark',\n",
       "       'view_of_water', 'quality_High&Ultra', 'no_of_bathrooms_1',\n",
       "       'no_of_bathrooms_3', 'no_of_bathrooms_4', 'no_of_bathrooms_5lub6',\n",
       "       'latitude', 'size_in_sqft'],\n",
       "      dtype='object')"
      ]
     },
     "execution_count": 103,
     "metadata": {},
     "output_type": "execute_result"
    }
   ],
   "source": [
    "features"
   ]
  },
  {
   "cell_type": "code",
   "execution_count": 104,
   "metadata": {},
   "outputs": [],
   "source": [
    "X_train=X_train[features]"
   ]
  },
  {
   "cell_type": "code",
   "execution_count": 105,
   "metadata": {},
   "outputs": [
    {
     "data": {
      "text/html": [
       "<div>\n",
       "<style scoped>\n",
       "    .dataframe tbody tr th:only-of-type {\n",
       "        vertical-align: middle;\n",
       "    }\n",
       "\n",
       "    .dataframe tbody tr th {\n",
       "        vertical-align: top;\n",
       "    }\n",
       "\n",
       "    .dataframe thead th {\n",
       "        text-align: right;\n",
       "    }\n",
       "</style>\n",
       "<table border=\"1\" class=\"dataframe\">\n",
       "  <thead>\n",
       "    <tr style=\"text-align: right;\">\n",
       "      <th></th>\n",
       "      <th>balcony</th>\n",
       "      <th>barbecue_area</th>\n",
       "      <th>central_ac</th>\n",
       "      <th>childrens_play_area</th>\n",
       "      <th>concierge</th>\n",
       "      <th>pets_allowed</th>\n",
       "      <th>private_garden</th>\n",
       "      <th>private_gym</th>\n",
       "      <th>private_pool</th>\n",
       "      <th>security</th>\n",
       "      <th>shared_gym</th>\n",
       "      <th>view_of_landmark</th>\n",
       "      <th>view_of_water</th>\n",
       "      <th>quality_High&amp;Ultra</th>\n",
       "      <th>no_of_bathrooms_1</th>\n",
       "      <th>no_of_bathrooms_3</th>\n",
       "      <th>no_of_bathrooms_4</th>\n",
       "      <th>no_of_bathrooms_5lub6</th>\n",
       "      <th>latitude</th>\n",
       "      <th>size_in_sqft</th>\n",
       "    </tr>\n",
       "  </thead>\n",
       "  <tbody>\n",
       "    <tr>\n",
       "      <td>0</td>\n",
       "      <td>0</td>\n",
       "      <td>0</td>\n",
       "      <td>1</td>\n",
       "      <td>0</td>\n",
       "      <td>1</td>\n",
       "      <td>0.0</td>\n",
       "      <td>0</td>\n",
       "      <td>0</td>\n",
       "      <td>0</td>\n",
       "      <td>1</td>\n",
       "      <td>1.0</td>\n",
       "      <td>0.0</td>\n",
       "      <td>1</td>\n",
       "      <td>0</td>\n",
       "      <td>1</td>\n",
       "      <td>0</td>\n",
       "      <td>0</td>\n",
       "      <td>0</td>\n",
       "      <td>-0.570079</td>\n",
       "      <td>-2.125252</td>\n",
       "    </tr>\n",
       "    <tr>\n",
       "      <td>1</td>\n",
       "      <td>1</td>\n",
       "      <td>0</td>\n",
       "      <td>1</td>\n",
       "      <td>0</td>\n",
       "      <td>1</td>\n",
       "      <td>0.0</td>\n",
       "      <td>0</td>\n",
       "      <td>0</td>\n",
       "      <td>0</td>\n",
       "      <td>1</td>\n",
       "      <td>1.0</td>\n",
       "      <td>0.0</td>\n",
       "      <td>0</td>\n",
       "      <td>0</td>\n",
       "      <td>0</td>\n",
       "      <td>0</td>\n",
       "      <td>0</td>\n",
       "      <td>0</td>\n",
       "      <td>-0.407157</td>\n",
       "      <td>0.311250</td>\n",
       "    </tr>\n",
       "    <tr>\n",
       "      <td>2</td>\n",
       "      <td>1</td>\n",
       "      <td>0</td>\n",
       "      <td>1</td>\n",
       "      <td>1</td>\n",
       "      <td>0</td>\n",
       "      <td>0.0</td>\n",
       "      <td>0</td>\n",
       "      <td>0</td>\n",
       "      <td>0</td>\n",
       "      <td>0</td>\n",
       "      <td>1.0</td>\n",
       "      <td>0.0</td>\n",
       "      <td>1</td>\n",
       "      <td>0</td>\n",
       "      <td>0</td>\n",
       "      <td>0</td>\n",
       "      <td>1</td>\n",
       "      <td>0</td>\n",
       "      <td>1.438571</td>\n",
       "      <td>0.499963</td>\n",
       "    </tr>\n",
       "    <tr>\n",
       "      <td>3</td>\n",
       "      <td>0</td>\n",
       "      <td>0</td>\n",
       "      <td>1</td>\n",
       "      <td>1</td>\n",
       "      <td>0</td>\n",
       "      <td>1.0</td>\n",
       "      <td>0</td>\n",
       "      <td>0</td>\n",
       "      <td>0</td>\n",
       "      <td>0</td>\n",
       "      <td>0.0</td>\n",
       "      <td>0.0</td>\n",
       "      <td>0</td>\n",
       "      <td>0</td>\n",
       "      <td>0</td>\n",
       "      <td>0</td>\n",
       "      <td>0</td>\n",
       "      <td>0</td>\n",
       "      <td>-1.649620</td>\n",
       "      <td>0.531810</td>\n",
       "    </tr>\n",
       "    <tr>\n",
       "      <td>4</td>\n",
       "      <td>1</td>\n",
       "      <td>0</td>\n",
       "      <td>0</td>\n",
       "      <td>0</td>\n",
       "      <td>0</td>\n",
       "      <td>0.0</td>\n",
       "      <td>0</td>\n",
       "      <td>0</td>\n",
       "      <td>0</td>\n",
       "      <td>0</td>\n",
       "      <td>1.0</td>\n",
       "      <td>0.0</td>\n",
       "      <td>1</td>\n",
       "      <td>0</td>\n",
       "      <td>0</td>\n",
       "      <td>0</td>\n",
       "      <td>1</td>\n",
       "      <td>0</td>\n",
       "      <td>1.289533</td>\n",
       "      <td>1.204902</td>\n",
       "    </tr>\n",
       "  </tbody>\n",
       "</table>\n",
       "</div>"
      ],
      "text/plain": [
       "   balcony  barbecue_area  central_ac  childrens_play_area  concierge  \\\n",
       "0        0              0           1                    0          1   \n",
       "1        1              0           1                    0          1   \n",
       "2        1              0           1                    1          0   \n",
       "3        0              0           1                    1          0   \n",
       "4        1              0           0                    0          0   \n",
       "\n",
       "   pets_allowed  private_garden  private_gym  private_pool  security  \\\n",
       "0           0.0               0            0             0         1   \n",
       "1           0.0               0            0             0         1   \n",
       "2           0.0               0            0             0         0   \n",
       "3           1.0               0            0             0         0   \n",
       "4           0.0               0            0             0         0   \n",
       "\n",
       "   shared_gym  view_of_landmark  view_of_water  quality_High&Ultra  \\\n",
       "0         1.0               0.0              1                   0   \n",
       "1         1.0               0.0              0                   0   \n",
       "2         1.0               0.0              1                   0   \n",
       "3         0.0               0.0              0                   0   \n",
       "4         1.0               0.0              1                   0   \n",
       "\n",
       "   no_of_bathrooms_1  no_of_bathrooms_3  no_of_bathrooms_4  \\\n",
       "0                  1                  0                  0   \n",
       "1                  0                  0                  0   \n",
       "2                  0                  0                  1   \n",
       "3                  0                  0                  0   \n",
       "4                  0                  0                  1   \n",
       "\n",
       "   no_of_bathrooms_5lub6  latitude  size_in_sqft  \n",
       "0                      0 -0.570079     -2.125252  \n",
       "1                      0 -0.407157      0.311250  \n",
       "2                      0  1.438571      0.499963  \n",
       "3                      0 -1.649620      0.531810  \n",
       "4                      0  1.289533      1.204902  "
      ]
     },
     "execution_count": 105,
     "metadata": {},
     "output_type": "execute_result"
    }
   ],
   "source": [
    "X_train.head()"
   ]
  },
  {
   "cell_type": "code",
   "execution_count": 106,
   "metadata": {},
   "outputs": [],
   "source": [
    "X_test=X_test[features]"
   ]
  },
  {
   "cell_type": "markdown",
   "metadata": {},
   "source": [
    "# Modelowanie"
   ]
  },
  {
   "cell_type": "markdown",
   "metadata": {},
   "source": [
    "### regresja liniowa"
   ]
  },
  {
   "cell_type": "code",
   "execution_count": 107,
   "metadata": {},
   "outputs": [],
   "source": [
    "reg=LinearRegression()"
   ]
  },
  {
   "cell_type": "code",
   "execution_count": 108,
   "metadata": {},
   "outputs": [
    {
     "data": {
      "text/plain": [
       "LinearRegression()"
      ]
     },
     "execution_count": 108,
     "metadata": {},
     "output_type": "execute_result"
    }
   ],
   "source": [
    "reg.fit(X_train, y_train)"
   ]
  },
  {
   "cell_type": "code",
   "execution_count": 109,
   "metadata": {},
   "outputs": [],
   "source": [
    "from sklearn import metrics"
   ]
  },
  {
   "cell_type": "code",
   "execution_count": 110,
   "metadata": {},
   "outputs": [],
   "source": [
    "y_pred_regresja=reg.predict(X_test)"
   ]
  },
  {
   "cell_type": "code",
   "execution_count": 111,
   "metadata": {},
   "outputs": [],
   "source": [
    "MAE_linear=metrics.mean_absolute_error(y_test, y_pred_regresja)"
   ]
  },
  {
   "cell_type": "code",
   "execution_count": 112,
   "metadata": {},
   "outputs": [],
   "source": [
    "MSE_linear=metrics.mean_squared_error(y_test, y_pred_regresja)"
   ]
  },
  {
   "cell_type": "code",
   "execution_count": 113,
   "metadata": {},
   "outputs": [],
   "source": [
    "RMSE_linear=np.sqrt(MSE_linear)"
   ]
  },
  {
   "cell_type": "code",
   "execution_count": 114,
   "metadata": {},
   "outputs": [],
   "source": [
    "R2=metrics.r2_score(y_test, y_pred_regresja)"
   ]
  },
  {
   "cell_type": "code",
   "execution_count": 115,
   "metadata": {},
   "outputs": [],
   "source": [
    "mean=np.mean(y_test)"
   ]
  },
  {
   "cell_type": "code",
   "execution_count": 116,
   "metadata": {},
   "outputs": [],
   "source": [
    "results_regresja=pd.DataFrame(data=[[\"Linear Regression\",MAE_linear,MSE_linear,RMSE_linear, R2,mean]], columns=[\"Model\", \"MAE\", \"MSE\",\"RMSE\", \"R^2\", \"Mean\"])"
   ]
  },
  {
   "cell_type": "code",
   "execution_count": 117,
   "metadata": {},
   "outputs": [
    {
     "data": {
      "text/html": [
       "<div>\n",
       "<style scoped>\n",
       "    .dataframe tbody tr th:only-of-type {\n",
       "        vertical-align: middle;\n",
       "    }\n",
       "\n",
       "    .dataframe tbody tr th {\n",
       "        vertical-align: top;\n",
       "    }\n",
       "\n",
       "    .dataframe thead th {\n",
       "        text-align: right;\n",
       "    }\n",
       "</style>\n",
       "<table border=\"1\" class=\"dataframe\">\n",
       "  <thead>\n",
       "    <tr style=\"text-align: right;\">\n",
       "      <th></th>\n",
       "      <th>Model</th>\n",
       "      <th>MAE</th>\n",
       "      <th>MSE</th>\n",
       "      <th>RMSE</th>\n",
       "      <th>R^2</th>\n",
       "      <th>Mean</th>\n",
       "    </tr>\n",
       "  </thead>\n",
       "  <tbody>\n",
       "    <tr>\n",
       "      <td>0</td>\n",
       "      <td>Linear Regression</td>\n",
       "      <td>1.130571e+06</td>\n",
       "      <td>4.859509e+12</td>\n",
       "      <td>2.204429e+06</td>\n",
       "      <td>0.460658</td>\n",
       "      <td>2.144683e+06</td>\n",
       "    </tr>\n",
       "  </tbody>\n",
       "</table>\n",
       "</div>"
      ],
      "text/plain": [
       "               Model           MAE           MSE          RMSE       R^2  \\\n",
       "0  Linear Regression  1.130571e+06  4.859509e+12  2.204429e+06  0.460658   \n",
       "\n",
       "           Mean  \n",
       "0  2.144683e+06  "
      ]
     },
     "execution_count": 117,
     "metadata": {},
     "output_type": "execute_result"
    }
   ],
   "source": [
    "results_regresja"
   ]
  },
  {
   "cell_type": "markdown",
   "metadata": {},
   "source": [
    "### regresja liniowa z regularyzacją grzbietową(ridge) "
   ]
  },
  {
   "cell_type": "code",
   "execution_count": 118,
   "metadata": {},
   "outputs": [],
   "source": [
    "from sklearn.linear_model import Ridge"
   ]
  },
  {
   "cell_type": "code",
   "execution_count": 119,
   "metadata": {},
   "outputs": [],
   "source": [
    "ridge=Ridge()"
   ]
  },
  {
   "cell_type": "code",
   "execution_count": 120,
   "metadata": {},
   "outputs": [],
   "source": [
    "from sklearn.model_selection import GridSearchCV"
   ]
  },
  {
   "cell_type": "code",
   "execution_count": 121,
   "metadata": {},
   "outputs": [],
   "source": [
    "parameters = {'alpha':[1e-5, 1e-4, 1e-3, 1e-2, 1e-1, 1, 10, 100], 'solver':['svd', 'cholesky', 'lsqr']\n",
    "             }"
   ]
  },
  {
   "cell_type": "code",
   "execution_count": 122,
   "metadata": {},
   "outputs": [],
   "source": [
    "grid = GridSearchCV(estimator=ridge, param_grid = parameters, cv = 5, n_jobs=-1, scoring='neg_mean_absolute_error')"
   ]
  },
  {
   "cell_type": "code",
   "execution_count": 123,
   "metadata": {},
   "outputs": [
    {
     "data": {
      "text/plain": [
       "GridSearchCV(cv=5, estimator=Ridge(), n_jobs=-1,\n",
       "             param_grid={'alpha': [1e-05, 0.0001, 0.001, 0.01, 0.1, 1, 10, 100],\n",
       "                         'solver': ['svd', 'cholesky', 'lsqr']},\n",
       "             scoring='neg_mean_absolute_error')"
      ]
     },
     "execution_count": 123,
     "metadata": {},
     "output_type": "execute_result"
    }
   ],
   "source": [
    "grid.fit(X_train, y_train)"
   ]
  },
  {
   "cell_type": "code",
   "execution_count": 124,
   "metadata": {},
   "outputs": [
    {
     "name": "stdout",
     "output_type": "stream",
     "text": [
      "Best: -1005743.854101 using {'alpha': 100, 'solver': 'lsqr'}\n"
     ]
    }
   ],
   "source": [
    "print(\"Best: %f using %s\" % (grid.best_score_, grid.best_params_))"
   ]
  },
  {
   "cell_type": "code",
   "execution_count": 125,
   "metadata": {},
   "outputs": [],
   "source": [
    "ridge = grid.best_estimator_"
   ]
  },
  {
   "cell_type": "code",
   "execution_count": 126,
   "metadata": {},
   "outputs": [
    {
     "data": {
      "text/plain": [
       "Ridge(alpha=100, solver='lsqr')"
      ]
     },
     "execution_count": 126,
     "metadata": {},
     "output_type": "execute_result"
    }
   ],
   "source": [
    "ridge"
   ]
  },
  {
   "cell_type": "code",
   "execution_count": 127,
   "metadata": {},
   "outputs": [
    {
     "data": {
      "text/plain": [
       "Ridge(alpha=100, solver='lsqr')"
      ]
     },
     "execution_count": 127,
     "metadata": {},
     "output_type": "execute_result"
    }
   ],
   "source": [
    "ridge.fit(X_train, y_train)"
   ]
  },
  {
   "cell_type": "code",
   "execution_count": 128,
   "metadata": {},
   "outputs": [],
   "source": [
    "y_pred = ridge.predict(X_test)"
   ]
  },
  {
   "cell_type": "code",
   "execution_count": 129,
   "metadata": {},
   "outputs": [],
   "source": [
    "from sklearn import metrics\n",
    "MAE_linear_ridge = metrics.mean_absolute_error(y_test, y_pred)\n",
    "MSE_linear_ridge = metrics.mean_squared_error(y_test, y_pred)\n",
    "RMSE_linear_ridge = np.sqrt(MSE_linear_ridge)\n",
    "R2_ridge = metrics.r2_score(y_test, y_pred)\n",
    "mean_ridge = np.mean(y_test)"
   ]
  },
  {
   "cell_type": "code",
   "execution_count": 130,
   "metadata": {},
   "outputs": [
    {
     "data": {
      "text/html": [
       "<div>\n",
       "<style scoped>\n",
       "    .dataframe tbody tr th:only-of-type {\n",
       "        vertical-align: middle;\n",
       "    }\n",
       "\n",
       "    .dataframe tbody tr th {\n",
       "        vertical-align: top;\n",
       "    }\n",
       "\n",
       "    .dataframe thead th {\n",
       "        text-align: right;\n",
       "    }\n",
       "</style>\n",
       "<table border=\"1\" class=\"dataframe\">\n",
       "  <thead>\n",
       "    <tr style=\"text-align: right;\">\n",
       "      <th></th>\n",
       "      <th>Model</th>\n",
       "      <th>MAE</th>\n",
       "      <th>MSE</th>\n",
       "      <th>RMSE</th>\n",
       "      <th>R^2</th>\n",
       "      <th>Mean</th>\n",
       "    </tr>\n",
       "  </thead>\n",
       "  <tbody>\n",
       "    <tr>\n",
       "      <td>0</td>\n",
       "      <td>Ridge regression</td>\n",
       "      <td>1067263.891</td>\n",
       "      <td>4.710027e+12</td>\n",
       "      <td>2170259.587</td>\n",
       "      <td>0.477</td>\n",
       "      <td>2144683.29</td>\n",
       "    </tr>\n",
       "  </tbody>\n",
       "</table>\n",
       "</div>"
      ],
      "text/plain": [
       "              Model          MAE           MSE         RMSE    R^2        Mean\n",
       "0  Ridge regression  1067263.891  4.710027e+12  2170259.587  0.477  2144683.29"
      ]
     },
     "execution_count": 130,
     "metadata": {},
     "output_type": "execute_result"
    }
   ],
   "source": [
    "results_ridge = pd.DataFrame(data=[[\"Ridge regression\", MAE_linear_ridge, MSE_linear_ridge, RMSE_linear_ridge, R2_ridge, mean_ridge]], \n",
    "                          columns=['Model', 'MAE', 'MSE', 'RMSE', 'R^2','Mean'])\n",
    "results_ridge.round(3)"
   ]
  },
  {
   "cell_type": "code",
   "execution_count": 131,
   "metadata": {},
   "outputs": [
    {
     "data": {
      "text/html": [
       "<div>\n",
       "<style scoped>\n",
       "    .dataframe tbody tr th:only-of-type {\n",
       "        vertical-align: middle;\n",
       "    }\n",
       "\n",
       "    .dataframe tbody tr th {\n",
       "        vertical-align: top;\n",
       "    }\n",
       "\n",
       "    .dataframe thead th {\n",
       "        text-align: right;\n",
       "    }\n",
       "</style>\n",
       "<table border=\"1\" class=\"dataframe\">\n",
       "  <thead>\n",
       "    <tr style=\"text-align: right;\">\n",
       "      <th></th>\n",
       "      <th>Model</th>\n",
       "      <th>MAE</th>\n",
       "      <th>MSE</th>\n",
       "      <th>RMSE</th>\n",
       "      <th>R^2</th>\n",
       "      <th>Mean</th>\n",
       "    </tr>\n",
       "  </thead>\n",
       "  <tbody>\n",
       "    <tr>\n",
       "      <td>0</td>\n",
       "      <td>Linear Regression</td>\n",
       "      <td>1.130571e+06</td>\n",
       "      <td>4.859509e+12</td>\n",
       "      <td>2.204429e+06</td>\n",
       "      <td>0.460658</td>\n",
       "      <td>2.144683e+06</td>\n",
       "    </tr>\n",
       "    <tr>\n",
       "      <td>0</td>\n",
       "      <td>Ridge regression</td>\n",
       "      <td>1.067264e+06</td>\n",
       "      <td>4.710027e+12</td>\n",
       "      <td>2.170260e+06</td>\n",
       "      <td>0.477249</td>\n",
       "      <td>2.144683e+06</td>\n",
       "    </tr>\n",
       "  </tbody>\n",
       "</table>\n",
       "</div>"
      ],
      "text/plain": [
       "               Model           MAE           MSE          RMSE       R^2  \\\n",
       "0  Linear Regression  1.130571e+06  4.859509e+12  2.204429e+06  0.460658   \n",
       "0   Ridge regression  1.067264e+06  4.710027e+12  2.170260e+06  0.477249   \n",
       "\n",
       "           Mean  \n",
       "0  2.144683e+06  \n",
       "0  2.144683e+06  "
      ]
     },
     "execution_count": 131,
     "metadata": {},
     "output_type": "execute_result"
    }
   ],
   "source": [
    "pd.concat([results_regresja, results_ridge])"
   ]
  },
  {
   "cell_type": "markdown",
   "metadata": {},
   "source": [
    "## drzewo decyzyjne "
   ]
  },
  {
   "cell_type": "code",
   "execution_count": 132,
   "metadata": {},
   "outputs": [],
   "source": [
    "from sklearn.tree import DecisionTreeRegressor"
   ]
  },
  {
   "cell_type": "code",
   "execution_count": 133,
   "metadata": {},
   "outputs": [],
   "source": [
    "dt = DecisionTreeRegressor(random_state=123)"
   ]
  },
  {
   "cell_type": "code",
   "execution_count": 134,
   "metadata": {},
   "outputs": [
    {
     "data": {
      "text/plain": [
       "DecisionTreeRegressor(random_state=123)"
      ]
     },
     "execution_count": 134,
     "metadata": {},
     "output_type": "execute_result"
    }
   ],
   "source": [
    "dt.fit(X_train, y_train)"
   ]
  },
  {
   "cell_type": "code",
   "execution_count": 135,
   "metadata": {},
   "outputs": [],
   "source": [
    "y_pred = dt.predict(X_test)"
   ]
  },
  {
   "cell_type": "code",
   "execution_count": 136,
   "metadata": {},
   "outputs": [],
   "source": [
    "from sklearn import metrics\n",
    "MAE_dt = metrics.mean_absolute_error(y_test, y_pred)\n",
    "MSE_dt = metrics.mean_squared_error(y_test, y_pred)\n",
    "RMSE_dt = np.sqrt(MSE_dt)\n",
    "R2 = metrics.r2_score(y_test, y_pred)\n",
    "mean = np.mean(y_test)"
   ]
  },
  {
   "cell_type": "code",
   "execution_count": 137,
   "metadata": {},
   "outputs": [
    {
     "data": {
      "text/html": [
       "<div>\n",
       "<style scoped>\n",
       "    .dataframe tbody tr th:only-of-type {\n",
       "        vertical-align: middle;\n",
       "    }\n",
       "\n",
       "    .dataframe tbody tr th {\n",
       "        vertical-align: top;\n",
       "    }\n",
       "\n",
       "    .dataframe thead th {\n",
       "        text-align: right;\n",
       "    }\n",
       "</style>\n",
       "<table border=\"1\" class=\"dataframe\">\n",
       "  <thead>\n",
       "    <tr style=\"text-align: right;\">\n",
       "      <th></th>\n",
       "      <th>Model</th>\n",
       "      <th>MAE</th>\n",
       "      <th>MSE</th>\n",
       "      <th>RMSE</th>\n",
       "      <th>R^2</th>\n",
       "      <th>Mean</th>\n",
       "    </tr>\n",
       "  </thead>\n",
       "  <tbody>\n",
       "    <tr>\n",
       "      <td>0</td>\n",
       "      <td>Drzewo regresyjne</td>\n",
       "      <td>639619.268357</td>\n",
       "      <td>1.597625e+12</td>\n",
       "      <td>1.263972e+06</td>\n",
       "      <td>0.822685</td>\n",
       "      <td>2.144683e+06</td>\n",
       "    </tr>\n",
       "  </tbody>\n",
       "</table>\n",
       "</div>"
      ],
      "text/plain": [
       "               Model            MAE           MSE          RMSE       R^2  \\\n",
       "0  Drzewo regresyjne  639619.268357  1.597625e+12  1.263972e+06  0.822685   \n",
       "\n",
       "           Mean  \n",
       "0  2.144683e+06  "
      ]
     },
     "execution_count": 137,
     "metadata": {},
     "output_type": "execute_result"
    }
   ],
   "source": [
    "results_drzewo = pd.DataFrame(data=[[\"Drzewo regresyjne\", MAE_dt, MSE_dt, RMSE_dt, R2, mean]], \n",
    "                          columns=['Model', 'MAE', 'MSE', 'RMSE', 'R^2','Mean'])\n",
    "results_drzewo"
   ]
  },
  {
   "cell_type": "markdown",
   "metadata": {},
   "source": [
    "## drzewo decyzyjne z optymalizacją"
   ]
  },
  {
   "cell_type": "code",
   "execution_count": 138,
   "metadata": {},
   "outputs": [],
   "source": [
    "dt = DecisionTreeRegressor()"
   ]
  },
  {
   "cell_type": "code",
   "execution_count": 139,
   "metadata": {},
   "outputs": [],
   "source": [
    "params = {\n",
    "    'max_depth': np.arange(2,20),\n",
    "    'min_samples_leaf': np.arange(5,101),\n",
    "    'min_samples_split': np.arange(2,7),\n",
    "    'max_features': np.arange(5,18)\n",
    "}"
   ]
  },
  {
   "cell_type": "code",
   "execution_count": 140,
   "metadata": {},
   "outputs": [],
   "source": [
    "from sklearn.model_selection import RandomizedSearchCV"
   ]
  },
  {
   "cell_type": "code",
   "execution_count": 141,
   "metadata": {},
   "outputs": [],
   "source": [
    "random_search = RandomizedSearchCV(estimator=dt, \n",
    "                           param_distributions=params, \n",
    "                           cv=5, n_jobs=-1, n_iter=500)"
   ]
  },
  {
   "cell_type": "code",
   "execution_count": 142,
   "metadata": {},
   "outputs": [
    {
     "data": {
      "text/plain": [
       "RandomizedSearchCV(cv=5, estimator=DecisionTreeRegressor(), n_iter=500,\n",
       "                   n_jobs=-1,\n",
       "                   param_distributions={'max_depth': array([ 2,  3,  4,  5,  6,  7,  8,  9, 10, 11, 12, 13, 14, 15, 16, 17, 18,\n",
       "       19]),\n",
       "                                        'max_features': array([ 5,  6,  7,  8,  9, 10, 11, 12, 13, 14, 15, 16, 17]),\n",
       "                                        'min_samples_leaf': array([  5,   6,   7,   8,   9,  10,  11,  12,  13,  14,  15,  16,  17,\n",
       "        18,  19,  20,  21,  22,  23,  24,  25,  26,  27,  28,  29,  30,\n",
       "        31,  32,  33,  34,  35,  36,  37,  38,  39,  40,  41,  42,  43,\n",
       "        44,  45,  46,  47,  48,  49,  50,  51,  52,  53,  54,  55,  56,\n",
       "        57,  58,  59,  60,  61,  62,  63,  64,  65,  66,  67,  68,  69,\n",
       "        70,  71,  72,  73,  74,  75,  76,  77,  78,  79,  80,  81,  82,\n",
       "        83,  84,  85,  86,  87,  88,  89,  90,  91,  92,  93,  94,  95,\n",
       "        96,  97,  98,  99, 100]),\n",
       "                                        'min_samples_split': array([2, 3, 4, 5, 6])})"
      ]
     },
     "execution_count": 142,
     "metadata": {},
     "output_type": "execute_result"
    }
   ],
   "source": [
    "random_search.fit(X_train, y_train)"
   ]
  },
  {
   "cell_type": "code",
   "execution_count": 143,
   "metadata": {},
   "outputs": [
    {
     "name": "stdout",
     "output_type": "stream",
     "text": [
      "Best: 0.727340 using {'min_samples_split': 6, 'min_samples_leaf': 7, 'max_features': 9, 'max_depth': 13}\n"
     ]
    }
   ],
   "source": [
    "print(\"Best: %f using %s\" % (random_search.best_score_, random_search.best_params_))"
   ]
  },
  {
   "cell_type": "code",
   "execution_count": 144,
   "metadata": {},
   "outputs": [],
   "source": [
    "dt = DecisionTreeRegressor(random_state=22, min_samples_split = 5, min_samples_leaf = 5, max_features = 12, max_depth = 8)"
   ]
  },
  {
   "cell_type": "code",
   "execution_count": 145,
   "metadata": {},
   "outputs": [
    {
     "data": {
      "text/plain": [
       "DecisionTreeRegressor(max_depth=8, max_features=12, min_samples_leaf=5,\n",
       "                      min_samples_split=5, random_state=22)"
      ]
     },
     "execution_count": 145,
     "metadata": {},
     "output_type": "execute_result"
    }
   ],
   "source": [
    "dt.fit(X_train, y_train)"
   ]
  },
  {
   "cell_type": "code",
   "execution_count": 146,
   "metadata": {},
   "outputs": [],
   "source": [
    "y_pred = dt.predict(X_test)"
   ]
  },
  {
   "cell_type": "code",
   "execution_count": 147,
   "metadata": {},
   "outputs": [],
   "source": [
    "from sklearn import metrics\n",
    "MAE_dt = metrics.mean_absolute_error(y_test, y_pred)\n",
    "MSE_dt = metrics.mean_squared_error(y_test, y_pred)\n",
    "RMSE_dt = np.sqrt(MSE_dt)\n",
    "R2 = metrics.r2_score(y_test, y_pred)\n",
    "mean = np.mean(y_test)"
   ]
  },
  {
   "cell_type": "code",
   "execution_count": 148,
   "metadata": {},
   "outputs": [
    {
     "data": {
      "text/html": [
       "<div>\n",
       "<style scoped>\n",
       "    .dataframe tbody tr th:only-of-type {\n",
       "        vertical-align: middle;\n",
       "    }\n",
       "\n",
       "    .dataframe tbody tr th {\n",
       "        vertical-align: top;\n",
       "    }\n",
       "\n",
       "    .dataframe thead th {\n",
       "        text-align: right;\n",
       "    }\n",
       "</style>\n",
       "<table border=\"1\" class=\"dataframe\">\n",
       "  <thead>\n",
       "    <tr style=\"text-align: right;\">\n",
       "      <th></th>\n",
       "      <th>Model</th>\n",
       "      <th>MAE</th>\n",
       "      <th>MSE</th>\n",
       "      <th>RMSE</th>\n",
       "      <th>R^2</th>\n",
       "      <th>Mean</th>\n",
       "    </tr>\n",
       "  </thead>\n",
       "  <tbody>\n",
       "    <tr>\n",
       "      <td>0</td>\n",
       "      <td>Drzewo regresyjne opt</td>\n",
       "      <td>650723.178</td>\n",
       "      <td>1.944075e+12</td>\n",
       "      <td>1394300.837</td>\n",
       "      <td>0.784</td>\n",
       "      <td>2144683.29</td>\n",
       "    </tr>\n",
       "  </tbody>\n",
       "</table>\n",
       "</div>"
      ],
      "text/plain": [
       "                   Model         MAE           MSE         RMSE    R^2  \\\n",
       "0  Drzewo regresyjne opt  650723.178  1.944075e+12  1394300.837  0.784   \n",
       "\n",
       "         Mean  \n",
       "0  2144683.29  "
      ]
     },
     "execution_count": 148,
     "metadata": {},
     "output_type": "execute_result"
    }
   ],
   "source": [
    "results_drzewo_opt = pd.DataFrame(data=[[\"Drzewo regresyjne opt\", MAE_dt, MSE_dt, RMSE_dt, R2, mean]], \n",
    "                          columns=['Model', 'MAE', 'MSE', 'RMSE', 'R^2','Mean'])\n",
    "results_drzewo_opt.round(3)"
   ]
  },
  {
   "cell_type": "markdown",
   "metadata": {},
   "source": [
    "## las losowy bez optymalizacji"
   ]
  },
  {
   "cell_type": "code",
   "execution_count": 149,
   "metadata": {},
   "outputs": [],
   "source": [
    "from sklearn.ensemble import RandomForestRegressor"
   ]
  },
  {
   "cell_type": "code",
   "execution_count": 150,
   "metadata": {},
   "outputs": [],
   "source": [
    "estimator = RandomForestRegressor(random_state = 2,criterion='mse')"
   ]
  },
  {
   "cell_type": "code",
   "execution_count": 151,
   "metadata": {},
   "outputs": [
    {
     "data": {
      "text/plain": [
       "RandomForestRegressor(criterion='mse', random_state=2)"
      ]
     },
     "execution_count": 151,
     "metadata": {},
     "output_type": "execute_result"
    }
   ],
   "source": [
    "estimator.fit(X_train, y_train)"
   ]
  },
  {
   "cell_type": "code",
   "execution_count": 152,
   "metadata": {},
   "outputs": [],
   "source": [
    "y_pred = estimator.predict(X_test)"
   ]
  },
  {
   "cell_type": "code",
   "execution_count": 153,
   "metadata": {},
   "outputs": [],
   "source": [
    "MAE_trees = metrics.mean_absolute_error(y_test, y_pred)\n",
    "MSE_trees = metrics.mean_squared_error(y_test, y_pred)\n",
    "RMSE_trees = np.sqrt(MSE_trees)\n",
    "R2 = metrics.r2_score(y_test, y_pred)\n",
    "mean = np.mean(y_test)"
   ]
  },
  {
   "cell_type": "code",
   "execution_count": 154,
   "metadata": {},
   "outputs": [
    {
     "data": {
      "text/html": [
       "<div>\n",
       "<style scoped>\n",
       "    .dataframe tbody tr th:only-of-type {\n",
       "        vertical-align: middle;\n",
       "    }\n",
       "\n",
       "    .dataframe tbody tr th {\n",
       "        vertical-align: top;\n",
       "    }\n",
       "\n",
       "    .dataframe thead th {\n",
       "        text-align: right;\n",
       "    }\n",
       "</style>\n",
       "<table border=\"1\" class=\"dataframe\">\n",
       "  <thead>\n",
       "    <tr style=\"text-align: right;\">\n",
       "      <th></th>\n",
       "      <th>Model</th>\n",
       "      <th>MAE</th>\n",
       "      <th>MSE</th>\n",
       "      <th>RMSE</th>\n",
       "      <th>R^2</th>\n",
       "      <th>Mean</th>\n",
       "    </tr>\n",
       "  </thead>\n",
       "  <tbody>\n",
       "    <tr>\n",
       "      <td>0</td>\n",
       "      <td>Random Forest</td>\n",
       "      <td>513059.16</td>\n",
       "      <td>9.696897e+11</td>\n",
       "      <td>984728.237</td>\n",
       "      <td>0.892</td>\n",
       "      <td>2144683.29</td>\n",
       "    </tr>\n",
       "  </tbody>\n",
       "</table>\n",
       "</div>"
      ],
      "text/plain": [
       "           Model        MAE           MSE        RMSE    R^2        Mean\n",
       "0  Random Forest  513059.16  9.696897e+11  984728.237  0.892  2144683.29"
      ]
     },
     "execution_count": 154,
     "metadata": {},
     "output_type": "execute_result"
    }
   ],
   "source": [
    "results_df = pd.DataFrame(data=[[\"Random Forest\", MAE_trees, MSE_trees, RMSE_trees, R2, mean]], \n",
    "                          columns=['Model', 'MAE', 'MSE', 'RMSE', 'R^2','Mean'])\n",
    "results_df.round(3)"
   ]
  },
  {
   "cell_type": "code",
   "execution_count": 155,
   "metadata": {},
   "outputs": [
    {
     "data": {
      "text/html": [
       "<div>\n",
       "<style scoped>\n",
       "    .dataframe tbody tr th:only-of-type {\n",
       "        vertical-align: middle;\n",
       "    }\n",
       "\n",
       "    .dataframe tbody tr th {\n",
       "        vertical-align: top;\n",
       "    }\n",
       "\n",
       "    .dataframe thead th {\n",
       "        text-align: right;\n",
       "    }\n",
       "</style>\n",
       "<table border=\"1\" class=\"dataframe\">\n",
       "  <thead>\n",
       "    <tr style=\"text-align: right;\">\n",
       "      <th></th>\n",
       "      <th>Model</th>\n",
       "      <th>MAE</th>\n",
       "      <th>MSE</th>\n",
       "      <th>RMSE</th>\n",
       "      <th>R^2</th>\n",
       "      <th>Mean</th>\n",
       "    </tr>\n",
       "  </thead>\n",
       "  <tbody>\n",
       "    <tr>\n",
       "      <td>0</td>\n",
       "      <td>Linear Regression</td>\n",
       "      <td>1.130571e+06</td>\n",
       "      <td>4.859509e+12</td>\n",
       "      <td>2.204429e+06</td>\n",
       "      <td>0.460658</td>\n",
       "      <td>2.144683e+06</td>\n",
       "    </tr>\n",
       "    <tr>\n",
       "      <td>0</td>\n",
       "      <td>Ridge regression</td>\n",
       "      <td>1.067264e+06</td>\n",
       "      <td>4.710027e+12</td>\n",
       "      <td>2.170260e+06</td>\n",
       "      <td>0.477249</td>\n",
       "      <td>2.144683e+06</td>\n",
       "    </tr>\n",
       "    <tr>\n",
       "      <td>0</td>\n",
       "      <td>Random Forest</td>\n",
       "      <td>5.130592e+05</td>\n",
       "      <td>9.696897e+11</td>\n",
       "      <td>9.847282e+05</td>\n",
       "      <td>0.892377</td>\n",
       "      <td>2.144683e+06</td>\n",
       "    </tr>\n",
       "  </tbody>\n",
       "</table>\n",
       "</div>"
      ],
      "text/plain": [
       "               Model           MAE           MSE          RMSE       R^2  \\\n",
       "0  Linear Regression  1.130571e+06  4.859509e+12  2.204429e+06  0.460658   \n",
       "0   Ridge regression  1.067264e+06  4.710027e+12  2.170260e+06  0.477249   \n",
       "0      Random Forest  5.130592e+05  9.696897e+11  9.847282e+05  0.892377   \n",
       "\n",
       "           Mean  \n",
       "0  2.144683e+06  \n",
       "0  2.144683e+06  \n",
       "0  2.144683e+06  "
      ]
     },
     "execution_count": 155,
     "metadata": {},
     "output_type": "execute_result"
    }
   ],
   "source": [
    "pd.concat([results_regresja, results_ridge,results_df])"
   ]
  },
  {
   "cell_type": "markdown",
   "metadata": {},
   "source": [
    "## las losowy z optymalizacją"
   ]
  },
  {
   "cell_type": "code",
   "execution_count": 156,
   "metadata": {},
   "outputs": [],
   "source": [
    "bootstrap = [True, False]\n",
    "n_estimators = np.arange(10,150,30)\n",
    "max_depth = np.arange(3,15)\n",
    "min_samples_leaf = np.arange(5,30)\n",
    "min_samples_split = np.arange(5,30)\n",
    "max_features = ['log2','sqrt', None]"
   ]
  },
  {
   "cell_type": "code",
   "execution_count": 157,
   "metadata": {},
   "outputs": [
    {
     "name": "stdout",
     "output_type": "stream",
     "text": [
      "RandomForestRegressor(bootstrap=False, max_depth=8, max_features='sqrt',\n",
      "                      min_samples_leaf=5, min_samples_split=6, random_state=2)\n"
     ]
    }
   ],
   "source": [
    "from sklearn.model_selection import RandomizedSearchCV\n",
    "estimator = RandomForestRegressor(random_state=2)\n",
    "para_grids = {'n_estimators': n_estimators,\n",
    "               'max_features': max_features,\n",
    "               'max_depth': max_depth,\n",
    "               'min_samples_split': min_samples_split,\n",
    "               'min_samples_leaf': min_samples_leaf,\n",
    "               'bootstrap': bootstrap }\n",
    "random_search = RandomizedSearchCV(estimator=estimator, \n",
    "                           param_distributions=para_grids, \n",
    "                           cv=3, n_jobs=-1, n_iter=500, random_state=123)\n",
    "random_search.fit(X_train, y_train)\n",
    "best_param = random_search.best_estimator_\n",
    "print(best_param)"
   ]
  },
  {
   "cell_type": "code",
   "execution_count": 158,
   "metadata": {},
   "outputs": [],
   "source": [
    "trees = RandomForestRegressor(bootstrap=False, max_depth=10, max_features=\"sqrt\",\n",
    "                      min_samples_leaf=6, min_samples_split=5, n_estimators=70, random_state=None)"
   ]
  },
  {
   "cell_type": "code",
   "execution_count": 159,
   "metadata": {},
   "outputs": [
    {
     "data": {
      "text/plain": [
       "RandomForestRegressor(bootstrap=False, max_depth=10, max_features='sqrt',\n",
       "                      min_samples_leaf=6, min_samples_split=5, n_estimators=70)"
      ]
     },
     "execution_count": 159,
     "metadata": {},
     "output_type": "execute_result"
    }
   ],
   "source": [
    "trees.fit(X_train, y_train)"
   ]
  },
  {
   "cell_type": "code",
   "execution_count": 160,
   "metadata": {},
   "outputs": [],
   "source": [
    "y_pred = trees.predict(X_test)"
   ]
  },
  {
   "cell_type": "code",
   "execution_count": 161,
   "metadata": {},
   "outputs": [],
   "source": [
    "MAE_trees = metrics.mean_absolute_error(y_test, y_pred)\n",
    "MSE_trees = metrics.mean_squared_error(y_test, y_pred)\n",
    "RMSE_trees = np.sqrt(MSE_trees)\n",
    "R2 = metrics.r2_score(y_test, y_pred)\n",
    "mean = np.mean(y_test)"
   ]
  },
  {
   "cell_type": "code",
   "execution_count": 162,
   "metadata": {},
   "outputs": [
    {
     "data": {
      "text/html": [
       "<div>\n",
       "<style scoped>\n",
       "    .dataframe tbody tr th:only-of-type {\n",
       "        vertical-align: middle;\n",
       "    }\n",
       "\n",
       "    .dataframe tbody tr th {\n",
       "        vertical-align: top;\n",
       "    }\n",
       "\n",
       "    .dataframe thead th {\n",
       "        text-align: right;\n",
       "    }\n",
       "</style>\n",
       "<table border=\"1\" class=\"dataframe\">\n",
       "  <thead>\n",
       "    <tr style=\"text-align: right;\">\n",
       "      <th></th>\n",
       "      <th>Model</th>\n",
       "      <th>MAE</th>\n",
       "      <th>MSE</th>\n",
       "      <th>RMSE</th>\n",
       "      <th>R^2</th>\n",
       "      <th>Mean</th>\n",
       "    </tr>\n",
       "  </thead>\n",
       "  <tbody>\n",
       "    <tr>\n",
       "      <td>0</td>\n",
       "      <td>Random Forest Opt</td>\n",
       "      <td>700903.586011</td>\n",
       "      <td>2.772604e+12</td>\n",
       "      <td>1.665114e+06</td>\n",
       "      <td>0.692277</td>\n",
       "      <td>2.144683e+06</td>\n",
       "    </tr>\n",
       "  </tbody>\n",
       "</table>\n",
       "</div>"
      ],
      "text/plain": [
       "               Model            MAE           MSE          RMSE       R^2  \\\n",
       "0  Random Forest Opt  700903.586011  2.772604e+12  1.665114e+06  0.692277   \n",
       "\n",
       "           Mean  \n",
       "0  2.144683e+06  "
      ]
     },
     "execution_count": 162,
     "metadata": {},
     "output_type": "execute_result"
    }
   ],
   "source": [
    "results_las_losowy = pd.DataFrame(data=[[\"Random Forest Opt\", MAE_trees, MSE_trees, RMSE_trees, R2, mean]], \n",
    "                          columns=['Model', 'MAE', 'MSE', 'RMSE', 'R^2','Mean'])\n",
    "results_las_losowy"
   ]
  },
  {
   "cell_type": "markdown",
   "metadata": {},
   "source": [
    "### XGBoost bez optymalizacji"
   ]
  },
  {
   "cell_type": "code",
   "execution_count": 163,
   "metadata": {},
   "outputs": [],
   "source": [
    "from xgboost import XGBRegressor"
   ]
  },
  {
   "cell_type": "code",
   "execution_count": 164,
   "metadata": {},
   "outputs": [],
   "source": [
    "xgb_reg = XGBRegressor()"
   ]
  },
  {
   "cell_type": "code",
   "execution_count": 165,
   "metadata": {},
   "outputs": [
    {
     "data": {
      "text/plain": [
       "XGBRegressor(base_score=0.5, booster='gbtree', colsample_bylevel=1,\n",
       "             colsample_bynode=1, colsample_bytree=1, enable_categorical=False,\n",
       "             gamma=0, gpu_id=-1, importance_type=None,\n",
       "             interaction_constraints='', learning_rate=0.300000012,\n",
       "             max_delta_step=0, max_depth=6, min_child_weight=1, missing=nan,\n",
       "             monotone_constraints='()', n_estimators=100, n_jobs=4,\n",
       "             num_parallel_tree=1, predictor='auto', random_state=0, reg_alpha=0,\n",
       "             reg_lambda=1, scale_pos_weight=1, subsample=1, tree_method='exact',\n",
       "             validate_parameters=1, verbosity=None)"
      ]
     },
     "execution_count": 165,
     "metadata": {},
     "output_type": "execute_result"
    }
   ],
   "source": [
    "xgb_reg.fit(X_train, y_train)"
   ]
  },
  {
   "cell_type": "code",
   "execution_count": 166,
   "metadata": {},
   "outputs": [],
   "source": [
    "y_pred = xgb_reg.predict(X_test)"
   ]
  },
  {
   "cell_type": "code",
   "execution_count": 167,
   "metadata": {},
   "outputs": [],
   "source": [
    "MAE_xgb = metrics.mean_absolute_error(y_test, y_pred)\n",
    "MSE_xgb = metrics.mean_squared_error(y_test, y_pred)\n",
    "RMSE_xgb = np.sqrt(MSE_xgb)\n",
    "R2 = metrics.r2_score(y_test, y_pred)\n",
    "mean = np.mean(y_test)"
   ]
  },
  {
   "cell_type": "code",
   "execution_count": 168,
   "metadata": {},
   "outputs": [
    {
     "data": {
      "text/html": [
       "<div>\n",
       "<style scoped>\n",
       "    .dataframe tbody tr th:only-of-type {\n",
       "        vertical-align: middle;\n",
       "    }\n",
       "\n",
       "    .dataframe tbody tr th {\n",
       "        vertical-align: top;\n",
       "    }\n",
       "\n",
       "    .dataframe thead th {\n",
       "        text-align: right;\n",
       "    }\n",
       "</style>\n",
       "<table border=\"1\" class=\"dataframe\">\n",
       "  <thead>\n",
       "    <tr style=\"text-align: right;\">\n",
       "      <th></th>\n",
       "      <th>Model</th>\n",
       "      <th>MAE</th>\n",
       "      <th>MSE</th>\n",
       "      <th>RMSE</th>\n",
       "      <th>R^2</th>\n",
       "      <th>Mean</th>\n",
       "    </tr>\n",
       "  </thead>\n",
       "  <tbody>\n",
       "    <tr>\n",
       "      <td>0</td>\n",
       "      <td>XGBoost</td>\n",
       "      <td>496062.41</td>\n",
       "      <td>1.097927e+12</td>\n",
       "      <td>1047820.202</td>\n",
       "      <td>0.878</td>\n",
       "      <td>2144683.29</td>\n",
       "    </tr>\n",
       "  </tbody>\n",
       "</table>\n",
       "</div>"
      ],
      "text/plain": [
       "     Model        MAE           MSE         RMSE    R^2        Mean\n",
       "0  XGBoost  496062.41  1.097927e+12  1047820.202  0.878  2144683.29"
      ]
     },
     "execution_count": 168,
     "metadata": {},
     "output_type": "execute_result"
    }
   ],
   "source": [
    "results_Xgb = pd.DataFrame(data=[[\"XGBoost\", MAE_xgb, MSE_xgb, RMSE_xgb, R2, mean]], \n",
    "                          columns=['Model', 'MAE', 'MSE', 'RMSE', 'R^2','Mean'])\n",
    "results_Xgb.round(3)"
   ]
  },
  {
   "cell_type": "markdown",
   "metadata": {},
   "source": [
    "## XGBoost z optymalizacją"
   ]
  },
  {
   "cell_type": "code",
   "execution_count": 169,
   "metadata": {},
   "outputs": [],
   "source": [
    "from xgboost import XGBRegressor"
   ]
  },
  {
   "cell_type": "code",
   "execution_count": 170,
   "metadata": {},
   "outputs": [
    {
     "name": "stdout",
     "output_type": "stream",
     "text": [
      "XGBRegressor(base_score=0.5, booster='gbtree', colsample_bylevel=1,\n",
      "             colsample_bynode=1, colsample_bytree=0.6, enable_categorical=False,\n",
      "             gamma=0.2, gpu_id=-1, importance_type=None,\n",
      "             interaction_constraints='', learning_rate=0.300000012,\n",
      "             max_delta_step=0, max_depth=8, min_child_weight=5, missing=nan,\n",
      "             monotone_constraints='()', n_estimators=100, n_jobs=4,\n",
      "             num_parallel_tree=1, predictor='auto', random_state=0, reg_alpha=0,\n",
      "             reg_lambda=1, scale_pos_weight=1, subsample=0.7,\n",
      "             tree_method='exact', validate_parameters=1, verbosity=None)\n"
     ]
    }
   ],
   "source": [
    "xgb_reg = XGBRegressor()\n",
    "params = {\n",
    "    'max_depth': np.arange(3,12,1),\n",
    "    'min_child_weight': np.arange(5,15,1),\n",
    "    'gamma': [i/10.0 for i in range(0,5)],\n",
    "    'subsample':[i/10.0 for i in range(6,10)],\n",
    "    'colsample_bytree':[i/10.0 for i in range(6,10)]\n",
    "}\n",
    "\n",
    "grid_xgb_reg=RandomizedSearchCV(xgb_reg,\n",
    "                          params,\n",
    "                          n_iter=100,\n",
    "                          cv=5,\n",
    "                          n_jobs=-1)\n",
    "grid_xgb_reg.fit(X_train, y_train)\n",
    "best_param = grid_xgb_reg.best_estimator_\n",
    "print(best_param)"
   ]
  },
  {
   "cell_type": "code",
   "execution_count": 171,
   "metadata": {},
   "outputs": [],
   "source": [
    "model_xgb = XGBRegressor(base_score=0.5, booster='gbtree', colsample_bylevel=1,\n",
    "             colsample_bynode=1, colsample_bytree=0.7, enable_categorical=False,\n",
    "             gamma=0.0, gpu_id=-1, importance_type=None,\n",
    "             interaction_constraints='', learning_rate=0.300000012,\n",
    "             max_delta_step=0, max_depth=5, min_child_weight=8,\n",
    "             monotone_constraints='()', n_estimators=100, n_jobs=4,\n",
    "             num_parallel_tree=1, objective='reg:squarederror',\n",
    "             predictor='auto', random_state=0, reg_alpha=0, reg_lambda=1,\n",
    "             scale_pos_weight=1, subsample=0.9, tree_method='exact',\n",
    "             validate_parameters=1, verbosity=None)"
   ]
  },
  {
   "cell_type": "code",
   "execution_count": 172,
   "metadata": {
    "scrolled": true
   },
   "outputs": [
    {
     "data": {
      "text/plain": [
       "XGBRegressor(base_score=0.5, booster='gbtree', colsample_bylevel=1,\n",
       "             colsample_bynode=1, colsample_bytree=0.7, enable_categorical=False,\n",
       "             gamma=0.0, gpu_id=-1, importance_type=None,\n",
       "             interaction_constraints='', learning_rate=0.300000012,\n",
       "             max_delta_step=0, max_depth=5, min_child_weight=8, missing=nan,\n",
       "             monotone_constraints='()', n_estimators=100, n_jobs=4,\n",
       "             num_parallel_tree=1, predictor='auto', random_state=0, reg_alpha=0,\n",
       "             reg_lambda=1, scale_pos_weight=1, subsample=0.9,\n",
       "             tree_method='exact', validate_parameters=1, verbosity=None)"
      ]
     },
     "execution_count": 172,
     "metadata": {},
     "output_type": "execute_result"
    }
   ],
   "source": [
    "model_xgb.fit(X_train, y_train)"
   ]
  },
  {
   "cell_type": "code",
   "execution_count": 173,
   "metadata": {},
   "outputs": [],
   "source": [
    "y_pred = model_xgb.predict(X_test)"
   ]
  },
  {
   "cell_type": "code",
   "execution_count": 174,
   "metadata": {},
   "outputs": [],
   "source": [
    "MAE_xgb = metrics.mean_absolute_error(y_test, y_pred)\n",
    "MSE_xgb = metrics.mean_squared_error(y_test, y_pred)\n",
    "RMSE_xgb = np.sqrt(MSE_xgb)\n",
    "R2 = metrics.r2_score(y_test, y_pred)\n",
    "mean = np.mean(y_test)"
   ]
  },
  {
   "cell_type": "code",
   "execution_count": 175,
   "metadata": {},
   "outputs": [
    {
     "data": {
      "text/html": [
       "<div>\n",
       "<style scoped>\n",
       "    .dataframe tbody tr th:only-of-type {\n",
       "        vertical-align: middle;\n",
       "    }\n",
       "\n",
       "    .dataframe tbody tr th {\n",
       "        vertical-align: top;\n",
       "    }\n",
       "\n",
       "    .dataframe thead th {\n",
       "        text-align: right;\n",
       "    }\n",
       "</style>\n",
       "<table border=\"1\" class=\"dataframe\">\n",
       "  <thead>\n",
       "    <tr style=\"text-align: right;\">\n",
       "      <th></th>\n",
       "      <th>Model</th>\n",
       "      <th>MAE</th>\n",
       "      <th>MSE</th>\n",
       "      <th>RMSE</th>\n",
       "      <th>R^2</th>\n",
       "      <th>Mean</th>\n",
       "    </tr>\n",
       "  </thead>\n",
       "  <tbody>\n",
       "    <tr>\n",
       "      <td>0</td>\n",
       "      <td>XGBoost Opt</td>\n",
       "      <td>598903.031</td>\n",
       "      <td>1.724288e+12</td>\n",
       "      <td>1313121.656</td>\n",
       "      <td>0.809</td>\n",
       "      <td>2144683.29</td>\n",
       "    </tr>\n",
       "  </tbody>\n",
       "</table>\n",
       "</div>"
      ],
      "text/plain": [
       "         Model         MAE           MSE         RMSE    R^2        Mean\n",
       "0  XGBoost Opt  598903.031  1.724288e+12  1313121.656  0.809  2144683.29"
      ]
     },
     "execution_count": 175,
     "metadata": {},
     "output_type": "execute_result"
    }
   ],
   "source": [
    "results_xgb_opt = pd.DataFrame(data=[[\"XGBoost Opt\", MAE_xgb, MSE_xgb, RMSE_xgb, R2, mean]], \n",
    "                          columns=['Model', 'MAE', 'MSE', 'RMSE', 'R^2','Mean'])\n",
    "results_xgb_opt.round(3)"
   ]
  },
  {
   "cell_type": "code",
   "execution_count": 176,
   "metadata": {},
   "outputs": [
    {
     "data": {
      "text/html": [
       "<div>\n",
       "<style scoped>\n",
       "    .dataframe tbody tr th:only-of-type {\n",
       "        vertical-align: middle;\n",
       "    }\n",
       "\n",
       "    .dataframe tbody tr th {\n",
       "        vertical-align: top;\n",
       "    }\n",
       "\n",
       "    .dataframe thead th {\n",
       "        text-align: right;\n",
       "    }\n",
       "</style>\n",
       "<table border=\"1\" class=\"dataframe\">\n",
       "  <thead>\n",
       "    <tr style=\"text-align: right;\">\n",
       "      <th></th>\n",
       "      <th>Model</th>\n",
       "      <th>MAE</th>\n",
       "      <th>MSE</th>\n",
       "      <th>RMSE</th>\n",
       "      <th>R^2</th>\n",
       "      <th>Mean</th>\n",
       "    </tr>\n",
       "  </thead>\n",
       "  <tbody>\n",
       "    <tr>\n",
       "      <td>0</td>\n",
       "      <td>Linear Regression</td>\n",
       "      <td>1.130571e+06</td>\n",
       "      <td>4.859509e+12</td>\n",
       "      <td>2.204429e+06</td>\n",
       "      <td>0.460658</td>\n",
       "      <td>2.144683e+06</td>\n",
       "    </tr>\n",
       "    <tr>\n",
       "      <td>0</td>\n",
       "      <td>Ridge regression</td>\n",
       "      <td>1.067264e+06</td>\n",
       "      <td>4.710027e+12</td>\n",
       "      <td>2.170260e+06</td>\n",
       "      <td>0.477249</td>\n",
       "      <td>2.144683e+06</td>\n",
       "    </tr>\n",
       "    <tr>\n",
       "      <td>0</td>\n",
       "      <td>Drzewo regresyjne opt</td>\n",
       "      <td>6.507232e+05</td>\n",
       "      <td>1.944075e+12</td>\n",
       "      <td>1.394301e+06</td>\n",
       "      <td>0.784233</td>\n",
       "      <td>2.144683e+06</td>\n",
       "    </tr>\n",
       "    <tr>\n",
       "      <td>0</td>\n",
       "      <td>Random Forest Opt</td>\n",
       "      <td>7.009036e+05</td>\n",
       "      <td>2.772604e+12</td>\n",
       "      <td>1.665114e+06</td>\n",
       "      <td>0.692277</td>\n",
       "      <td>2.144683e+06</td>\n",
       "    </tr>\n",
       "    <tr>\n",
       "      <td>0</td>\n",
       "      <td>XGBoost Opt</td>\n",
       "      <td>5.989030e+05</td>\n",
       "      <td>1.724288e+12</td>\n",
       "      <td>1.313122e+06</td>\n",
       "      <td>0.808627</td>\n",
       "      <td>2.144683e+06</td>\n",
       "    </tr>\n",
       "  </tbody>\n",
       "</table>\n",
       "</div>"
      ],
      "text/plain": [
       "                   Model           MAE           MSE          RMSE       R^2  \\\n",
       "0      Linear Regression  1.130571e+06  4.859509e+12  2.204429e+06  0.460658   \n",
       "0       Ridge regression  1.067264e+06  4.710027e+12  2.170260e+06  0.477249   \n",
       "0  Drzewo regresyjne opt  6.507232e+05  1.944075e+12  1.394301e+06  0.784233   \n",
       "0      Random Forest Opt  7.009036e+05  2.772604e+12  1.665114e+06  0.692277   \n",
       "0            XGBoost Opt  5.989030e+05  1.724288e+12  1.313122e+06  0.808627   \n",
       "\n",
       "           Mean  \n",
       "0  2.144683e+06  \n",
       "0  2.144683e+06  \n",
       "0  2.144683e+06  \n",
       "0  2.144683e+06  \n",
       "0  2.144683e+06  "
      ]
     },
     "execution_count": 176,
     "metadata": {},
     "output_type": "execute_result"
    }
   ],
   "source": [
    "pd.concat([results_regresja,results_ridge,results_drzewo_opt,results_las_losowy,results_xgb_opt])"
   ]
  },
  {
   "cell_type": "code",
   "execution_count": null,
   "metadata": {},
   "outputs": [],
   "source": []
  }
 ],
 "metadata": {
  "kernelspec": {
   "display_name": "Python 3",
   "language": "python",
   "name": "python3"
  },
  "language_info": {
   "codemirror_mode": {
    "name": "ipython",
    "version": 3
   },
   "file_extension": ".py",
   "mimetype": "text/x-python",
   "name": "python",
   "nbconvert_exporter": "python",
   "pygments_lexer": "ipython3",
   "version": "3.7.4"
  }
 },
 "nbformat": 4,
 "nbformat_minor": 2
}
